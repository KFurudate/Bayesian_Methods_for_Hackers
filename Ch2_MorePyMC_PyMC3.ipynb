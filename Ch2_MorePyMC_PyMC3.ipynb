{
  "nbformat": 4,
  "nbformat_minor": 0,
  "metadata": {
    "anaconda-cloud": {},
    "kernelspec": {
      "display_name": "Python 3",
      "language": "python",
      "name": "python3"
    },
    "language_info": {
      "codemirror_mode": {
        "name": "ipython",
        "version": 3
      },
      "file_extension": ".py",
      "mimetype": "text/x-python",
      "name": "python",
      "nbconvert_exporter": "python",
      "pygments_lexer": "ipython3",
      "version": "3.5.2"
    },
    "colab": {
      "name": "Ch2_MorePyMC_PyMC3.ipynb",
      "provenance": [],
      "collapsed_sections": [
        "aYVr4Sd7v-4l",
        "C6hlUtmVv-5A",
        "hFmPoE50v-50",
        "_wPA233gv-70",
        "aT6EkZwdv-8R",
        "iQ0do7Riv-8j",
        "Ms91755fv-87"
      ],
      "include_colab_link": true
    }
  },
  "cells": [
    {
      "cell_type": "markdown",
      "metadata": {
        "id": "view-in-github",
        "colab_type": "text"
      },
      "source": [
        "<a href=\"https://colab.research.google.com/github/KFurudate/Bayesian_Methods_for_Hackers/blob/main/Ch2_MorePyMC_PyMC3.ipynb\" target=\"_parent\"><img src=\"https://colab.research.google.com/assets/colab-badge.svg\" alt=\"Open In Colab\"/></a>"
      ]
    },
    {
      "cell_type": "markdown",
      "metadata": {
        "id": "MyhzUrj_v-38"
      },
      "source": [
        "Chapter 2\n",
        "======\n",
        "`Original content created by Cam Davidson-Pilon`\n",
        "\n",
        "`Ported to Python 3 and PyMC3 by Max Margenot (@clean_utensils) and Thomas Wiecki (@twiecki) at Quantopian (@quantopian)`\n",
        "\n",
        "___\n",
        "\n",
        "This chapter introduces more PyMC3 syntax and variables and ways to think about how to model a system from a Bayesian perspective. It also contains tips and data visualization techniques for assessing goodness-of-fit for your Bayesian model."
      ]
    },
    {
      "cell_type": "markdown",
      "metadata": {
        "id": "1IUomCwvv-3-"
      },
      "source": [
        "## A little more on PyMC3\n",
        "\n",
        "### Model Context\n",
        "\n",
        "In PyMC3, we typically handle all the variables we want in our model within the context of the `Model` object."
      ]
    },
    {
      "cell_type": "code",
      "metadata": {
        "id": "eXVnX6d0v-3_"
      },
      "source": [
        "import pymc3 as pm\n",
        "\n",
        "with pm.Model() as model:\n",
        "    parameter = pm.Exponential(\"poisson_param\", 1.0)\n",
        "    data_generator = pm.Poisson(\"data_generator\", parameter)"
      ],
      "execution_count": 2,
      "outputs": []
    },
    {
      "cell_type": "markdown",
      "metadata": {
        "id": "giENgg4dv-4G"
      },
      "source": [
        "This is an extra layer of convenience compared to PyMC. Any variables created within a given `Model`'s context will be automatically assigned to that model. If you try to define a variable outside of the context of a model, you will get an error.\n",
        "\n",
        "We can continue to work within the context of the same model by using `with` with the name of the model object that we have already created."
      ]
    },
    {
      "cell_type": "code",
      "metadata": {
        "id": "liXbL0TNv-4H"
      },
      "source": [
        "with model:\n",
        "    data_plus_one = data_generator + 1"
      ],
      "execution_count": 3,
      "outputs": []
    },
    {
      "cell_type": "markdown",
      "metadata": {
        "id": "DWxrup7Hv-4L"
      },
      "source": [
        "We can examine the same variables outside of the model context once they have been defined, but to define more variables that the model will recognize they have to be within the context."
      ]
    },
    {
      "cell_type": "code",
      "metadata": {
        "id": "pPzqLeQ2v-4L",
        "outputId": "ef37e0f2-9b7a-491e-b0a6-0f4bfcb4c303",
        "colab": {
          "base_uri": "https://localhost:8080/"
        }
      },
      "source": [
        "parameter.tag.test_value"
      ],
      "execution_count": 4,
      "outputs": [
        {
          "output_type": "execute_result",
          "data": {
            "text/plain": [
              "array(0.69314718)"
            ]
          },
          "metadata": {
            "tags": []
          },
          "execution_count": 4
        }
      ]
    },
    {
      "cell_type": "markdown",
      "metadata": {
        "id": "xolW-2yzv-4P"
      },
      "source": [
        "Each variable assigned to a model will be defined with its own name, the first string parameter (we will cover this further in the variables section). To create a different model object with the same name as one we have used previously, we need only run the first block of code again."
      ]
    },
    {
      "cell_type": "code",
      "metadata": {
        "id": "e4RrO8GTv-4Q"
      },
      "source": [
        "with pm.Model() as model:\n",
        "    theta = pm.Exponential(\"theta\", 2.0)\n",
        "    data_generator = pm.Poisson(\"data_generator\", theta)"
      ],
      "execution_count": 5,
      "outputs": []
    },
    {
      "cell_type": "markdown",
      "metadata": {
        "id": "ISR70cKIv-4V"
      },
      "source": [
        "We can also define an entirely separate model. Note that we are free to name our models whatever we like, so if we do not want to overwrite an old model we need only make another."
      ]
    },
    {
      "cell_type": "code",
      "metadata": {
        "id": "1imb65c9v-4W"
      },
      "source": [
        "with pm.Model() as ab_testing:\n",
        "    p_A = pm.Uniform(\"P(A)\", 0, 1)\n",
        "    p_B = pm.Uniform(\"P(B)\", 0, 1)"
      ],
      "execution_count": 6,
      "outputs": []
    },
    {
      "cell_type": "markdown",
      "metadata": {
        "id": "Rbj745Cpv-4a"
      },
      "source": [
        "You probably noticed that PyMC3 will often give you notifications about transformations when you add variables to your model. These transformations are done internally by PyMC3 to modify the space that the variable is sampled in (when we get to actually sampling the model). This is an internal feature which helps with the convergence of our samples to the posterior distribution and serves to improve the results."
      ]
    },
    {
      "cell_type": "markdown",
      "metadata": {
        "id": "LiHGY8Wlv-4a"
      },
      "source": [
        "### PyMC3 Variables\n",
        "\n",
        "All PyMC3 variables have an initial value (i.e. test value). Using the same variables from before:"
      ]
    },
    {
      "cell_type": "code",
      "metadata": {
        "id": "HWscNVNdv-4b",
        "outputId": "c0840d7d-959d-40b2-d629-cbd0fd0fc8ea",
        "colab": {
          "base_uri": "https://localhost:8080/"
        }
      },
      "source": [
        "print(\"parameter.tag.test_value =\", parameter.tag.test_value)\n",
        "print(\"data_generator.tag.test_value =\", data_generator.tag.test_value)\n",
        "print(\"data_plus_one.tag.test_value =\", data_plus_one.tag.test_value)"
      ],
      "execution_count": 7,
      "outputs": [
        {
          "output_type": "stream",
          "text": [
            "parameter.tag.test_value = 0.6931471824645996\n",
            "data_generator.tag.test_value = 0\n",
            "data_plus_one.tag.test_value = 1\n"
          ],
          "name": "stdout"
        }
      ]
    },
    {
      "cell_type": "markdown",
      "metadata": {
        "id": "kzO5bSyEv-4f"
      },
      "source": [
        "The `test_value` is used only for the model, as the starting point for sampling if no other start is specified. It will not change as a result of sampling. This initial state can be changed at variable creation by specifying a value for the `testval` parameter."
      ]
    },
    {
      "cell_type": "code",
      "metadata": {
        "id": "-QlCcquCv-4g",
        "outputId": "29bf4406-df22-4fda-fc4a-71b942abd7aa",
        "colab": {
          "base_uri": "https://localhost:8080/"
        }
      },
      "source": [
        "with pm.Model() as model:\n",
        "    parameter = pm.Exponential(\"poisson_param\", 1.0, testval=0.5)\n",
        "\n",
        "print(\"\\nparameter.tag.test_value =\", parameter.tag.test_value)"
      ],
      "execution_count": 8,
      "outputs": [
        {
          "output_type": "stream",
          "text": [
            "\n",
            "parameter.tag.test_value = 0.5\n"
          ],
          "name": "stdout"
        }
      ]
    },
    {
      "cell_type": "markdown",
      "metadata": {
        "id": "aYVr4Sd7v-4l"
      },
      "source": [
        "This can be helpful if you are using a more unstable prior that may require a better starting point.\n",
        "\n",
        "PyMC3 is concerned with two types of programming variables: stochastic and deterministic.\n",
        "\n",
        "*  *stochastic variables* are variables that are not deterministic, i.e., even if you knew all the values of the variables' parameters and components, it would still be random. Included in this category are instances of classes `Poisson`, `DiscreteUniform`, and `Exponential`.\n",
        "\n",
        "*  *deterministic variables* are variables that are not random if the variables' parameters and components were known. This might be confusing at first: a quick mental check is *if I knew all of variable `foo`'s component variables, I could determine what `foo`'s value is.* \n",
        "\n",
        "We will detail each below.\n",
        "\n",
        "#### Initializing Stochastic variables\n",
        "\n",
        "Initializing a stochastic, or random, variable requires a `name` argument, plus additional parameters that are class specific. For example:\n",
        "\n",
        "`some_variable = pm.DiscreteUniform(\"discrete_uni_var\", 0, 4)`\n",
        "\n",
        "where 0, 4 are the `DiscreteUniform`-specific lower and upper bound on the random variable. The [PyMC3 docs](http://pymc-devs.github.io/pymc3/api.html) contain the specific parameters for stochastic variables. (Or use `??` if you are using IPython!)\n",
        "\n",
        "The `name` attribute is used to retrieve the posterior distribution later in the analysis, so it is best to use a descriptive name. Typically, I use the Python variable's name as the `name`.\n",
        "\n",
        "For multivariable problems, rather than creating a Python array of stochastic variables, addressing the `shape` keyword in the call to a stochastic variable creates multivariate array of (independent) stochastic variables. The array behaves like a NumPy array when used like one, and references to its `tag.test_value` attribute return NumPy arrays.  \n",
        "\n",
        "The `shape` argument also solves the annoying case where you may have many variables $\\beta_i, \\; i = 1,...,N$ you wish to model. Instead of creating arbitrary names and variables for each one, like:\n",
        "\n",
        "    beta_1 = pm.Uniform(\"beta_1\", 0, 1)\n",
        "    beta_2 = pm.Uniform(\"beta_2\", 0, 1)\n",
        "    ...\n",
        "\n",
        "we can instead wrap them into a single variable:\n",
        "\n",
        "    betas = pm.Uniform(\"betas\", 0, 1, shape=N)"
      ]
    },
    {
      "cell_type": "markdown",
      "metadata": {
        "id": "6fy3WYe2v-4m"
      },
      "source": [
        "#### Deterministic variables\n",
        "\n",
        "We can create a deterministic variable similarly to how we create a stochastic variable. We simply call up the `Deterministic` class in PyMC3 and pass in the function that we desire\n",
        "\n",
        "    deterministic_variable = pm.Deterministic(\"deterministic variable\", some_function_of_variables)\n",
        "\n",
        "For all purposes, we can treat the object `some_deterministic_var` as a variable and not a Python function. \n",
        "\n",
        "Calling `pymc3.Deterministic` is the most obvious way, but not the only way, to create deterministic variables. Elementary operations, like addition, exponentials etc. implicitly create deterministic variables. For example, the following returns a deterministic variable:"
      ]
    },
    {
      "cell_type": "code",
      "metadata": {
        "id": "3aWWUkkgv-4m"
      },
      "source": [
        "with pm.Model() as model:\n",
        "    lambda_1 = pm.Exponential(\"lambda_1\", 1.0)\n",
        "    lambda_2 = pm.Exponential(\"lambda_2\", 1.0)\n",
        "    tau = pm.DiscreteUniform(\"tau\", lower=0, upper=10)\n",
        "\n",
        "new_deterministic_variable = lambda_1 + lambda_2"
      ],
      "execution_count": 9,
      "outputs": []
    },
    {
      "cell_type": "markdown",
      "metadata": {
        "id": "GJk4wNX4v-4q"
      },
      "source": [
        "If we want a `deterministic` variable to actually be tracked by our sampling, however, we need to define it explicitly as a named `deterministic` variable with the constructor.\n",
        "\n",
        "The use of the `deterministic` variable was seen in the previous chapter's text-message example.  Recall the model for $\\lambda$ looked like: \n",
        "\n",
        "$$\n",
        "\\lambda = \n",
        "\\begin{cases}\\lambda_1  & \\text{if } t \\lt \\tau \\cr\n",
        "\\lambda_2 & \\text{if } t \\ge \\tau\n",
        "\\end{cases}\n",
        "$$\n",
        "\n",
        "And in PyMC3 code:"
      ]
    },
    {
      "cell_type": "code",
      "metadata": {
        "id": "YhSswXUVv-4q"
      },
      "source": [
        "import numpy as np\n",
        "\n",
        "n_data_points = 5  # in CH1 we had ~70 data points\n",
        "idx = np.arange(n_data_points)\n",
        "with model:\n",
        "    lambda_ = pm.math.switch(tau >= idx, lambda_1, lambda_2)"
      ],
      "execution_count": 10,
      "outputs": []
    },
    {
      "cell_type": "markdown",
      "metadata": {
        "id": "HBDrSmUQv-4t"
      },
      "source": [
        "Clearly, if $\\tau, \\lambda_1$ and $\\lambda_2$ are known, then $\\lambda$ is known completely, hence it is a deterministic variable. We use the `switch` function here to change from $\\lambda_1$ to $\\lambda_2$ at the appropriate time. This function is directly from the `theano` package, which we will discuss in the next section.\n",
        "\n",
        "Inside a `deterministic` variable, the stochastic variables passed in behave like scalars or NumPy arrays (if multivariable). We can do whatever we want with them as long as the dimensions match up in our calculations.\n",
        "\n",
        "For example, running the following:\n",
        "\n",
        "    def subtract(x, y):\n",
        "        return x - y\n",
        "    \n",
        "    stochastic_1 = pm.Uniform(\"U_1\", 0, 1)\n",
        "    stochastic_2 = pm.Uniform(\"U_2\", 0, 1)\n",
        "    \n",
        "    det_1 = pm.Deterministic(\"Delta\", subtract(stochastic_1, stochastic_2))\n",
        "    \n",
        "Is perfectly valid PyMC3 code. Saying that our expressions behave like NumPy arrays is not exactly honest here, however. The main catch is that the expression that we are making *must* be compatible with `theano` tensors, which we will cover in the next section. Feel free to define whatever functions that you need in order to compose your model. However, if you need to do any array-like calculations that would require NumPy functions, make sure you use their equivalents in `theano`."
      ]
    },
    {
      "cell_type": "markdown",
      "metadata": {
        "id": "Szao2elFv-4u"
      },
      "source": [
        "### Theano\n",
        "\n",
        "The majority of the heavy lifting done by PyMC3 is taken care of with the `theano` package. The notation in `theano` is remarkably similar to NumPy. It also supports many of the familiar computational elements of NumPy. However, while NumPy directly executes computations, e.g. when you run `a + b`, `theano` instead builds up a \"compute graph\" that tracks that you want to perform the `+` operation on the elements `a` and `b`. Only when you `eval()` a `theano` expression does the computation take place (i.e. `theano` is lazy evaluated). Once the compute graph is built, we can perform all kinds of mathematical optimizations (e.g. simplifications), compute gradients via autodiff, compile the entire graph to C to run at machine speed, and also compile it to run on the GPU. PyMC3 is basically a collection of `theano` symbolic expressions for various probability distributions that are combined to one big compute graph making up the whole model log probability, and a collection of inference algorithms that use that graph to compute probabilities and gradients. For practical purposes, what this means is that in order to build certain models we sometimes have to use `theano`.\n",
        "\n",
        "Let's write some PyMC3 code that involves `theano` calculations."
      ]
    },
    {
      "cell_type": "code",
      "metadata": {
        "id": "hjej4lBrv-4u"
      },
      "source": [
        "import theano.tensor as tt\n",
        "\n",
        "with pm.Model() as theano_test:\n",
        "    p1 = pm.Uniform(\"p\", 0, 1)\n",
        "    p2 = 1 - p1\n",
        "    p = tt.stack([p1, p2])\n",
        "    \n",
        "    assignment = pm.Categorical(\"assignment\", p)"
      ],
      "execution_count": 11,
      "outputs": []
    },
    {
      "cell_type": "markdown",
      "metadata": {
        "id": "fa5J-Pmqv-4x"
      },
      "source": [
        "Here we use `theano`'s `stack()` function in the same way we would use one of NumPy's stacking functions: to combine our two separate variables, `p1` and `p2`, into a vector with $2$ elements. The stochastic `categorical` variable does not understand what we mean if we pass a NumPy array of `p1` and `p2` to it because they are both `theano` variables. Stacking them like this combines them into one `theano` variable that we can use as the complementary pair of probabilities for our two categories.\n",
        "\n",
        "Throughout the course of this book we use several `theano` functions to help construct our models. If you have more interest in looking at `theano` itself, be sure to check out the [documentation](http://deeplearning.net/software/theano/library/).\n",
        "\n",
        "After these technical considerations, we can get back to defining our model!"
      ]
    },
    {
      "cell_type": "markdown",
      "metadata": {
        "id": "kmXi3Se4v-4y"
      },
      "source": [
        "### Including observations in the Model\n",
        "\n",
        "At this point, it may not look like it, but we have fully specified our priors. For example, we can ask and answer questions like \"What does my prior distribution of $\\lambda_1$ look like?\" "
      ]
    },
    {
      "cell_type": "code",
      "metadata": {
        "id": "ia91JQF-v-4y",
        "outputId": "911c4201-24fa-4742-e08b-816a88346768",
        "colab": {
          "base_uri": "https://localhost:8080/",
          "height": 283
        }
      },
      "source": [
        "%matplotlib inline\n",
        "from IPython.core.pylabtools import figsize\n",
        "import matplotlib.pyplot as plt\n",
        "import scipy.stats as stats\n",
        "figsize(12.5, 4)\n",
        "\n",
        "\n",
        "samples = lambda_1.random(size=20000)\n",
        "plt.hist(samples, bins=70, histtype=\"stepfilled\")\n",
        "plt.title(\"Prior distribution for $\\lambda_1$\")\n",
        "plt.xlim(0, 8);"
      ],
      "execution_count": 12,
      "outputs": [
        {
          "output_type": "display_data",
          "data": {
            "image/png": "[encoded data removed]",
            "text/plain": [
              "<Figure size 900x288 with 1 Axes>"
            ]
          },
          "metadata": {
            "tags": [],
            "needs_background": "light"
          }
        }
      ]
    },
    {
      "cell_type": "markdown",
      "metadata": {
        "id": "ZXZ5d_tAv-44"
      },
      "source": [
        "To frame this in the notation of the first chapter, though this is a slight abuse of notation, we have specified $P(A)$. Our next goal is to include data/evidence/observations $X$ into our model. \n",
        "\n",
        "PyMC3 stochastic variables have a keyword argument `observed`. The keyword `observed` has a very simple role: fix the variable's current value to be the given data, typically a NumPy `array` or pandas `DataFrame`. For example:"
      ]
    },
    {
      "cell_type": "code",
      "metadata": {
        "id": "Ch_FjyJFv-44",
        "outputId": "2f5b667c-047a-45e2-86ec-e1fb18219d88",
        "colab": {
          "base_uri": "https://localhost:8080/"
        }
      },
      "source": [
        "data = np.array([10, 5])\n",
        "with model:\n",
        "    fixed_variable = pm.Poisson(\"fxd\", 1, observed=data)\n",
        "print(\"value: \", fixed_variable.tag.test_value)"
      ],
      "execution_count": 13,
      "outputs": [
        {
          "output_type": "stream",
          "text": [
            "value:  [10  5]\n"
          ],
          "name": "stdout"
        }
      ]
    },
    {
      "cell_type": "markdown",
      "metadata": {
        "id": "9f5cmwDMv-47"
      },
      "source": [
        "This is how we include data into our models: initializing a stochastic variable to have a *fixed value*. \n",
        "\n",
        "To complete our text message example, we fix the PyMC3 variable `observations` to the observed dataset. "
      ]
    },
    {
      "cell_type": "code",
      "metadata": {
        "id": "TDAEFnP-v-48",
        "outputId": "379fd031-366e-4a89-d88a-32d18249c9aa",
        "colab": {
          "base_uri": "https://localhost:8080/"
        }
      },
      "source": [
        "# We're using some fake data here\n",
        "data = np.array([10, 25, 15, 20, 35])\n",
        "with model:\n",
        "    obs = pm.Poisson(\"obs\", lambda_, observed=data)\n",
        "print(obs.tag.test_value)"
      ],
      "execution_count": 14,
      "outputs": [
        {
          "output_type": "stream",
          "text": [
            "[10 25 15 20 35]\n"
          ],
          "name": "stdout"
        }
      ]
    },
    {
      "cell_type": "markdown",
      "metadata": {
        "id": "pRim6953v-4_"
      },
      "source": [
        "## Modeling approaches\n",
        "\n",
        "A good starting thought to Bayesian modeling is to think about *how your data might have been generated*. Position yourself in an omniscient position, and try to imagine how *you* would recreate the dataset. \n",
        "\n",
        "In the last chapter we investigated text message data. We begin by asking how our observations may have been generated:\n",
        "\n",
        "1.  We started by thinking \"what is the best random variable to describe this count data?\" A Poisson random variable is a good candidate because it can represent count data. So we model the number of sms's received as sampled from a Poisson distribution.\n",
        "\n",
        "2.  Next, we think, \"Ok, assuming sms's are Poisson-distributed, what do I need for the Poisson distribution?\" Well, the Poisson distribution has a parameter $\\lambda$. \n",
        "\n",
        "3.  Do we know $\\lambda$? No. In fact, we have a suspicion that there are *two* $\\lambda$ values, one for the earlier behaviour and one for the later behaviour. We don't know when the behaviour switches though, but call the switchpoint $\\tau$.\n",
        "\n",
        "4. What is a good distribution for the two $\\lambda$s? The exponential is good, as it assigns probabilities to positive real numbers. Well the exponential distribution has a parameter too, call it $\\alpha$.\n",
        "\n",
        "5.  Do we know what the parameter $\\alpha$ might be? No. At this point, we could continue and assign a distribution to $\\alpha$, but it's better to stop once we reach a set level of ignorance: whereas we have a prior belief about $\\lambda$, (\"it probably changes over time\", \"it's likely between 10 and 30\", etc.), we don't really have any strong beliefs about $\\alpha$. So it's best to stop here. \n",
        "\n",
        "    What is a good value for $\\alpha$ then? We think that the $\\lambda$s are between 10-30, so if we set $\\alpha$ really low (which corresponds to larger probability on high values) we are not reflecting our prior well. Similar, a too-high alpha misses our prior belief as well. A good idea for $\\alpha$ as to reflect our belief is to set the value so that the mean of $\\lambda$, given $\\alpha$, is equal to our observed mean. This was shown in the last chapter.\n",
        "\n",
        "6. We have no expert opinion of when $\\tau$ might have occurred. So we will suppose $\\tau$ is from a discrete uniform distribution over the entire timespan.\n",
        "\n",
        "\n",
        "Below we give a graphical visualization of this, where arrows denote `parent-child` relationships. (provided by the [Daft Python library](http://daft-pgm.org/) )\n",
        "\n",
        "<img src=\"http://i.imgur.com/7J30oCG.png\" width = 700/>\n",
        "\n",
        "\n",
        "PyMC3, and other probabilistic programming languages, have been designed to tell these data-generation *stories*. More generally, B. Cronin writes [5]:\n",
        "\n",
        "> Probabilistic programming will unlock narrative explanations of data, one of the holy grails of business analytics and the unsung hero of scientific persuasion. People think in terms of stories - thus the unreasonable power of the anecdote to drive decision-making, well-founded or not. But existing analytics largely fails to provide this kind of story; instead, numbers seemingly appear out of thin air, with little of the causal context that humans prefer when weighing their options."
      ]
    },
    {
      "cell_type": "markdown",
      "metadata": {
        "id": "C6hlUtmVv-5A"
      },
      "source": [
        "### Same story; different ending.\n",
        "\n",
        "Interestingly, we can create *new datasets* by retelling the story.\n",
        "For example, if we reverse the above steps, we can simulate a possible realization of the dataset.\n",
        "\n",
        "1\\. Specify when the user's behaviour switches by sampling from $\\text{DiscreteUniform}(0, 80)$:"
      ]
    },
    {
      "cell_type": "code",
      "metadata": {
        "id": "qsaxxB8Zv-5A",
        "outputId": "ed591849-1ec6-4aae-be25-0f2f205fc46a",
        "colab": {
          "base_uri": "https://localhost:8080/"
        }
      },
      "source": [
        "tau = np.random.randint(0, 80)\n",
        "print(tau)"
      ],
      "execution_count": 15,
      "outputs": [
        {
          "output_type": "stream",
          "text": [
            "54\n"
          ],
          "name": "stdout"
        }
      ]
    },
    {
      "cell_type": "markdown",
      "metadata": {
        "id": "cVVLP2Elv-5H"
      },
      "source": [
        "2\\. Draw $\\lambda_1$ and $\\lambda_2$ from an $\\text{Exp}(\\alpha)$ distribution:"
      ]
    },
    {
      "cell_type": "code",
      "metadata": {
        "id": "qeyW0tknv-5I",
        "outputId": "3e50d022-6aa8-4bd9-8ba5-091210698fa6",
        "colab": {
          "base_uri": "https://localhost:8080/"
        }
      },
      "source": [
        "alpha = 1./20.\n",
        "lambda_1, lambda_2 = np.random.exponential(scale=1/alpha, size=2)\n",
        "print(lambda_1, lambda_2)"
      ],
      "execution_count": 16,
      "outputs": [
        {
          "output_type": "stream",
          "text": [
            "7.580197740574164 1.6836316053728397\n"
          ],
          "name": "stdout"
        }
      ]
    },
    {
      "cell_type": "markdown",
      "metadata": {
        "id": "8wGwdxKiv-5L"
      },
      "source": [
        "3\\.  For days before $\\tau$, represent the user's received SMS count by sampling from $\\text{Poi}(\\lambda_1)$, and sample from  $\\text{Poi}(\\lambda_2)$ for days after $\\tau$. For example:"
      ]
    },
    {
      "cell_type": "code",
      "metadata": {
        "id": "eFufQm5sv-5L"
      },
      "source": [
        "data = np.r_[stats.poisson.rvs(mu=lambda_1, size=tau), stats.poisson.rvs(mu=lambda_2, size = 80 - tau)]"
      ],
      "execution_count": 17,
      "outputs": []
    },
    {
      "cell_type": "markdown",
      "metadata": {
        "id": "4g2v8qaPv-5O"
      },
      "source": [
        "4\\. Plot the artificial dataset:"
      ]
    },
    {
      "cell_type": "code",
      "metadata": {
        "id": "uYWevR6dv-5P",
        "outputId": "dbe0f67a-9056-41ae-885d-4710955f2ba0",
        "colab": {
          "base_uri": "https://localhost:8080/",
          "height": 295
        }
      },
      "source": [
        "plt.bar(np.arange(80), data, color=\"#348ABD\")\n",
        "plt.bar(tau-1, data[tau - 1], color=\"r\", label=\"user behaviour changed\")\n",
        "plt.xlabel(\"Time (days)\")\n",
        "plt.ylabel(\"count of text-msgs received\")\n",
        "plt.title(\"Artificial dataset\")\n",
        "plt.xlim(0, 80)\n",
        "plt.legend();"
      ],
      "execution_count": 18,
      "outputs": [
        {
          "output_type": "display_data",
          "data": {
            "image/png": "[encoded data removed]",
            "text/plain": [
              "<Figure size 900x288 with 1 Axes>"
            ]
          },
          "metadata": {
            "tags": [],
            "needs_background": "light"
          }
        }
      ]
    },
    {
      "cell_type": "markdown",
      "metadata": {
        "id": "UCIqIjTWv-5Y"
      },
      "source": [
        "It is okay that our fictional dataset does not look like our observed dataset: the probability is incredibly small it indeed would. PyMC3's engine is designed to find good parameters, $\\lambda_i, \\tau$, that maximize this probability.  \n",
        "\n",
        "\n",
        "The ability to generate artificial dataset is an interesting side effect of our modeling, and we will see that this ability is a very important method of Bayesian inference. We produce a few more datasets below:"
      ]
    },
    {
      "cell_type": "code",
      "metadata": {
        "id": "xCeEQNV3v-5Z",
        "outputId": "4af5a1ed-6bae-4fef-ed19-2e5d22094d12",
        "colab": {
          "base_uri": "https://localhost:8080/",
          "height": 319
        }
      },
      "source": [
        "def plot_artificial_sms_dataset():\n",
        "    tau = stats.randint.rvs(0, 80)\n",
        "    alpha = 1./20.\n",
        "    lambda_1, lambda_2 = stats.expon.rvs(scale=1/alpha, size=2)\n",
        "    data = np.r_[stats.poisson.rvs(mu=lambda_1, size=tau), stats.poisson.rvs(mu=lambda_2, size=80 - tau)]\n",
        "    plt.bar(np.arange(80), data, color=\"#348ABD\")\n",
        "    plt.bar(tau - 1, data[tau-1], color=\"r\", label=\"user behaviour changed\")\n",
        "    plt.xlim(0, 80);\n",
        "\n",
        "figsize(12.5, 5)\n",
        "plt.title(\"More example of artificial datasets\")\n",
        "for i in range(4):\n",
        "    plt.subplot(4, 1, i+1)\n",
        "    plot_artificial_sms_dataset()\n"
      ],
      "execution_count": 19,
      "outputs": [
        {
          "output_type": "display_data",
          "data": {
            "image/png": "[encoded data removed]",
            "text/plain": [
              "<Figure size 900x360 with 4 Axes>"
            ]
          },
          "metadata": {
            "tags": [],
            "needs_background": "light"
          }
        }
      ]
    },
    {
      "cell_type": "markdown",
      "metadata": {
        "id": "lJcMfQggv-5d"
      },
      "source": [
        "Later we will see how we use this to make predictions and test the appropriateness of our models."
      ]
    },
    {
      "cell_type": "markdown",
      "metadata": {
        "id": "6N__B1LXv-5e"
      },
      "source": [
        "##### Example: Bayesian A/B testing\n",
        "\n",
        "A/B testing is a statistical design pattern for determining the difference of effectiveness between two different treatments. For example, a pharmaceutical company is interested in the effectiveness of drug A vs drug B. The company will test drug A on some fraction of their trials, and drug B on the other fraction (this fraction is often 1/2, but we will relax this assumption). After performing enough trials, the in-house statisticians sift through the data to determine which drug yielded better results. \n",
        "\n",
        "Similarly, front-end web developers are interested in which design of their website yields more sales or some other metric of interest. They will route some fraction of visitors to site A, and the other fraction to site B, and record if the visit yielded a sale or not. The data is recorded (in real-time), and analyzed afterwards. \n",
        "\n",
        "Often, the post-experiment analysis is done using something called a hypothesis test like *difference of means test* or *difference of proportions test*. This involves often misunderstood quantities like a \"Z-score\" and even more confusing \"p-values\" (please don't ask). If you have taken a statistics course, you have probably been taught this technique (though not necessarily *learned* this technique). And if you were like me, you may have felt uncomfortable with their derivation -- good: the Bayesian approach to this problem is much more natural. \n",
        "\n",
        "### A Simple Case\n",
        "\n",
        "As this is a hacker book, we'll continue with the web-dev example. For the moment, we will focus on the analysis of site A only. Assume that there is some true $0 \\lt p_A \\lt 1$ probability that users who, upon shown site A, eventually purchase from the site. This is the true effectiveness of site A. Currently, this quantity is unknown to us. \n",
        "\n",
        "Suppose site A was shown to $N$ people, and $n$ people purchased from the site. One might conclude hastily that $p_A = \\frac{n}{N}$. Unfortunately, the *observed frequency* $\\frac{n}{N}$ does not necessarily equal $p_A$ -- there is a difference between the *observed frequency* and the *true frequency* of an event. The true frequency can be interpreted as the probability of an event occurring. For example, the true frequency of rolling a 1 on a 6-sided die is $\\frac{1}{6}$. Knowing the true frequency of events like:\n",
        "\n",
        "- fraction of users who make purchases, \n",
        "- frequency of social attributes, \n",
        "- percent of internet users with cats etc. \n",
        "\n",
        "are common requests we ask of Nature. Unfortunately, often Nature hides the true frequency from us and we must *infer* it from observed data.\n",
        "\n",
        "The *observed frequency* is then the frequency we observe: say rolling the die 100 times you may observe 20 rolls of 1. The observed frequency, 0.2, differs from the true frequency, $\\frac{1}{6}$. We can use Bayesian statistics to infer probable values of the true frequency using an appropriate prior and observed data.\n",
        "\n",
        "\n",
        "With respect to our A/B example, we are interested in using what we know, $N$ (the total trials administered) and $n$ (the number of conversions), to estimate what $p_A$, the true frequency of buyers, might be. \n",
        "\n",
        "To setup a Bayesian model, we need to assign prior distributions to our unknown quantities. *A priori*, what do we think $p_A$ might be? For this example, we have no strong conviction about $p_A$, so for now, let's assume $p_A$ is uniform over [0,1]:"
      ]
    },
    {
      "cell_type": "code",
      "metadata": {
        "id": "0SAUCi7cv-5e"
      },
      "source": [
        "import pymc3 as pm\n",
        "\n",
        "# The parameters are the bounds of the Uniform.\n",
        "with pm.Model() as model:\n",
        "    p = pm.Uniform('p', lower=0, upper=1)"
      ],
      "execution_count": 21,
      "outputs": []
    },
    {
      "cell_type": "markdown",
      "metadata": {
        "id": "DZGV6CvPv-5h"
      },
      "source": [
        "Had we had stronger beliefs, we could have expressed them in the prior above.\n",
        "\n",
        "For this example, consider $p_A = 0.05$, and $N = 1500$ users shown site A, and we will simulate whether the user made a purchase or not. To simulate this from $N$ trials, we will use a *Bernoulli* distribution: if  $X\\ \\sim \\text{Ber}(p)$, then $X$ is 1 with probability $p$ and 0 with probability $1 - p$. Of course, in practice we do not know $p_A$, but we will use it here to simulate the data."
      ]
    },
    {
      "cell_type": "code",
      "metadata": {
        "id": "t2V99STvv-5i",
        "outputId": "f1d9b208-2c25-47bf-eaf7-5e6e70b02a53",
        "colab": {
          "base_uri": "https://localhost:8080/"
        }
      },
      "source": [
        "#set constants\n",
        "p_true = 0.05  # remember, this is unknown.\n",
        "N = 1500\n",
        "\n",
        "# sample N Bernoulli random variables from Ber(0.05).\n",
        "# each random variable has a 0.05 chance of being a 1.\n",
        "# this is the data-generation step\n",
        "occurrences = stats.bernoulli.rvs(p_true, size=N)\n",
        "\n",
        "print(occurrences) # Remember: Python treats True == 1, and False == 0\n",
        "print(np.sum(occurrences))"
      ],
      "execution_count": 22,
      "outputs": [
        {
          "output_type": "stream",
          "text": [
            "[0 0 1 ... 0 0 0]\n",
            "80\n"
          ],
          "name": "stdout"
        }
      ]
    },
    {
      "cell_type": "markdown",
      "metadata": {
        "id": "mLtGlUkwv-5p"
      },
      "source": [
        "The observed frequency is:"
      ]
    },
    {
      "cell_type": "code",
      "metadata": {
        "id": "g3ltCkDRv-5q",
        "outputId": "0988d0ff-0ac6-4234-9561-bb6bec285a2c",
        "colab": {
          "base_uri": "https://localhost:8080/"
        }
      },
      "source": [
        "# Occurrences.mean is equal to n/N.\n",
        "print(\"What is the observed frequency in Group A? %.4f\" % np.mean(occurrences))\n",
        "print(\"Does this equal the true frequency? %s\" % (np.mean(occurrences) == p_true))"
      ],
      "execution_count": 24,
      "outputs": [
        {
          "output_type": "stream",
          "text": [
            "What is the observed frequency in Group A? 0.0533\n",
            "Does this equal the true frequency? False\n"
          ],
          "name": "stdout"
        }
      ]
    },
    {
      "cell_type": "markdown",
      "metadata": {
        "id": "FDGcZO1yv-5t"
      },
      "source": [
        "We combine the observations into the PyMC3 `observed` variable, and run our inference algorithm:"
      ]
    },
    {
      "cell_type": "code",
      "metadata": {
        "id": "bvBbAQemv-5t",
        "outputId": "bf1c0379-2322-471d-8af4-6affc0496506",
        "colab": {
          "base_uri": "https://localhost:8080/"
        }
      },
      "source": [
        "#include the observations, which are Bernoulli\n",
        "with model:\n",
        "    obs = pm.Bernoulli(\"obs\", p, observed=occurrences)\n",
        "    # To be explained in chapter 3\n",
        "    step = pm.Metropolis()\n",
        "    trace = pm.sample(18000, step=step)\n",
        "    burned_trace = trace[1000:]"
      ],
      "execution_count": 25,
      "outputs": [
        {
          "output_type": "stream",
          "text": [
            "Sequential sampling (2 chains in 1 job)\n",
            "Metropolis: [p]\n",
            "100%|██████████| 18500/18500 [00:04<00:00, 4548.24it/s]\n",
            "100%|██████████| 18500/18500 [00:03<00:00, 5205.99it/s]\n",
            "The number of effective samples is smaller than 25% for some parameters.\n"
          ],
          "name": "stderr"
        }
      ]
    },
    {
      "cell_type": "markdown",
      "metadata": {
        "id": "44xPd0umv-5w"
      },
      "source": [
        "We plot the posterior distribution of the unknown $p_A$ below:"
      ]
    },
    {
      "cell_type": "code",
      "metadata": {
        "id": "CZU3YKrmv-5x",
        "outputId": "4c41625c-8041-4b89-b5db-29a311beb455",
        "colab": {
          "base_uri": "https://localhost:8080/",
          "height": 283
        }
      },
      "source": [
        "figsize(12.5, 4)\n",
        "plt.title(\"Posterior distribution of $p_A$, the true effectiveness of site A\")\n",
        "plt.vlines(p_true, 0, 90, linestyle=\"--\", label=\"true $p_A$ (unknown)\")\n",
        "plt.hist(burned_trace[\"p\"], bins=25, histtype=\"stepfilled\")\n",
        "plt.legend();"
      ],
      "execution_count": 27,
      "outputs": [
        {
          "output_type": "display_data",
          "data": {
            "image/png": "[encoded data removed]",
            "text/plain": [
              "<Figure size 900x288 with 1 Axes>"
            ]
          },
          "metadata": {
            "tags": [],
            "needs_background": "light"
          }
        }
      ]
    },
    {
      "cell_type": "markdown",
      "metadata": {
        "id": "hFmPoE50v-50"
      },
      "source": [
        "Our posterior distribution puts most weight near the true value of $p_A$, but also some weights in the tails. This is a measure of how uncertain we should be, given our observations. Try changing the number of observations, `N`, and observe how the posterior distribution changes.\n",
        "\n",
        "### *A* and *B* Together\n",
        "\n",
        "A similar analysis can be done for site B's response data to determine the analogous $p_B$. But what we are really interested in is the *difference* between $p_A$ and $p_B$. Let's infer $p_A$, $p_B$, *and* $\\text{delta} = p_A - p_B$, all at once. We can do this using PyMC3's deterministic variables. (We'll assume for this exercise that $p_B = 0.04$, so $\\text{delta} = 0.01$, $N_B = 750$ (significantly less than $N_A$) and we will simulate site B's data like we did for site A's data )"
      ]
    },
    {
      "cell_type": "code",
      "metadata": {
        "id": "8MV6bNNiv-51",
        "outputId": "6668389b-e5f3-4ec5-be6d-2e208aa62887",
        "colab": {
          "base_uri": "https://localhost:8080/"
        }
      },
      "source": [
        "import pymc3 as pm\n",
        "figsize(12, 4)\n",
        "\n",
        "#these two quantities are unknown to us.\n",
        "true_p_A = 0.05\n",
        "true_p_B = 0.04\n",
        "\n",
        "#notice the unequal sample sizes -- no problem in Bayesian analysis.\n",
        "N_A = 1500\n",
        "N_B = 750\n",
        "\n",
        "#generate some observations\n",
        "observations_A = stats.bernoulli.rvs(true_p_A, size=N_A)\n",
        "observations_B = stats.bernoulli.rvs(true_p_B, size=N_B)\n",
        "print(\"Obs from Site A: \", observations_A[:30], \"...\")\n",
        "print(\"Obs from Site B: \", observations_B[:30], \"...\")"
      ],
      "execution_count": 28,
      "outputs": [
        {
          "output_type": "stream",
          "text": [
            "Obs from Site A:  [0 0 0 0 0 0 0 0 0 0 0 0 0 0 0 0 0 0 0 0 1 0 0 0 0 0 0 0 0 0] ...\n",
            "Obs from Site B:  [0 0 0 0 0 0 0 0 0 0 0 0 0 0 0 0 0 0 0 0 0 0 0 0 0 0 0 0 0 0] ...\n"
          ],
          "name": "stdout"
        }
      ]
    },
    {
      "cell_type": "code",
      "metadata": {
        "id": "XhEzOkFIv-54",
        "outputId": "0369cb3e-e9de-4443-9036-5d3342ddbdaf",
        "colab": {
          "base_uri": "https://localhost:8080/"
        }
      },
      "source": [
        "print(np.mean(observations_A))\n",
        "print(np.mean(observations_B))"
      ],
      "execution_count": 29,
      "outputs": [
        {
          "output_type": "stream",
          "text": [
            "0.04533333333333334\n",
            "0.03333333333333333\n"
          ],
          "name": "stdout"
        }
      ]
    },
    {
      "cell_type": "code",
      "metadata": {
        "id": "mcjtX9dFv-58",
        "outputId": "750a4810-12ec-4748-add6-25f7219bc639",
        "colab": {
          "base_uri": "https://localhost:8080/"
        }
      },
      "source": [
        "# Set up the pymc3 model. Again assume Uniform priors for p_A and p_B.\n",
        "with pm.Model() as model:\n",
        "    p_A = pm.Uniform(\"p_A\", 0, 1)\n",
        "    p_B = pm.Uniform(\"p_B\", 0, 1)\n",
        "    \n",
        "    # Define the deterministic delta function. This is our unknown of interest.\n",
        "    delta = pm.Deterministic(\"delta\", p_A - p_B)\n",
        "\n",
        "    # Set of observations, in this case we have two observation datasets.\n",
        "    obs_A = pm.Bernoulli(\"obs_A\", p_A, observed=observations_A)\n",
        "    obs_B = pm.Bernoulli(\"obs_B\", p_B, observed=observations_B)\n",
        "\n",
        "    # To be explained in chapter 3.\n",
        "    step = pm.Metropolis()\n",
        "    trace = pm.sample(20000, step=step)\n",
        "    burned_trace=trace[1000:]"
      ],
      "execution_count": 30,
      "outputs": [
        {
          "output_type": "stream",
          "text": [
            "Sequential sampling (2 chains in 1 job)\n",
            "CompoundStep\n",
            ">Metropolis: [p_B]\n",
            ">Metropolis: [p_A]\n",
            "100%|██████████| 20500/20500 [00:07<00:00, 2621.92it/s]\n",
            "100%|██████████| 20500/20500 [00:08<00:00, 2506.66it/s]\n",
            "The number of effective samples is smaller than 25% for some parameters.\n"
          ],
          "name": "stderr"
        }
      ]
    },
    {
      "cell_type": "markdown",
      "metadata": {
        "id": "H4St3BuFv-6A"
      },
      "source": [
        "Below we plot the posterior distributions for the three unknowns: "
      ]
    },
    {
      "cell_type": "code",
      "metadata": {
        "id": "t67Uwfh6v-6B"
      },
      "source": [
        "p_A_samples = burned_trace[\"p_A\"]\n",
        "p_B_samples = burned_trace[\"p_B\"]\n",
        "delta_samples = burned_trace[\"delta\"]"
      ],
      "execution_count": 31,
      "outputs": []
    },
    {
      "cell_type": "code",
      "metadata": {
        "id": "72RII7oJv-6D",
        "outputId": "805fd422-ff23-4581-b774-d41cc13b4adc",
        "colab": {
          "base_uri": "https://localhost:8080/",
          "height": 609
        }
      },
      "source": [
        "figsize(12.5, 10)\n",
        "\n",
        "#histogram of posteriors\n",
        "\n",
        "ax = plt.subplot(311)\n",
        "plt.xlim(0, .1)\n",
        "plt.hist(p_A_samples, histtype='stepfilled', bins=25, alpha=0.85,\n",
        "         label=\"posterior of $p_A$\", color=\"#A60628\")\n",
        "plt.vlines(true_p_A, 0, 80, linestyle=\"--\", label=\"true $p_A$ (unknown)\")\n",
        "plt.legend(loc=\"upper right\")\n",
        "plt.title(\"Posterior distributions of $p_A$, $p_B$, and delta unknowns\")\n",
        "\n",
        "ax = plt.subplot(312)\n",
        "plt.xlim(0, .1)\n",
        "plt.hist(p_B_samples, histtype='stepfilled', bins=25, alpha=0.85,\n",
        "         label=\"posterior of $p_B$\", color=\"#467821\")\n",
        "plt.vlines(true_p_B, 0, 80, linestyle=\"--\", label=\"true $p_B$ (unknown)\")\n",
        "plt.legend(loc=\"upper right\")\n",
        "\n",
        "ax = plt.subplot(313)\n",
        "plt.hist(delta_samples, histtype='stepfilled', bins=30, alpha=0.85,\n",
        "         label=\"posterior of delta\", color=\"#7A68A6\")\n",
        "plt.vlines(true_p_A - true_p_B, 0, 60, linestyle=\"--\",\n",
        "           label=\"true delta (unknown)\")\n",
        "plt.vlines(0, 0, 60, color=\"black\", alpha=0.2)\n",
        "plt.legend(loc=\"upper right\");"
      ],
      "execution_count": 36,
      "outputs": [
        {
          "output_type": "display_data",
          "data": {
            "image/png": "[encoded data removed]",
            "text/plain": [
              "<Figure size 900x720 with 3 Axes>"
            ]
          },
          "metadata": {
            "tags": [],
            "needs_background": "light"
          }
        }
      ]
    },
    {
      "cell_type": "markdown",
      "metadata": {
        "id": "iMcRslqKv-6L"
      },
      "source": [
        "Notice that as a result of `N_B < N_A`, i.e. we have less data from site B, our posterior distribution of $p_B$ is fatter, implying we are less certain about the true value of $p_B$ than we are of $p_A$.  \n",
        "\n",
        "With respect to the posterior distribution of $\\text{delta}$, we can see that the majority of the distribution is above $\\text{delta}=0$, implying there site A's response is likely better than site B's response. The probability this inference is incorrect is easily computable:"
      ]
    },
    {
      "cell_type": "code",
      "metadata": {
        "id": "jkQ9Rqtnv-6N",
        "outputId": "b127d8b9-061e-4ccd-e04c-3eba8ca24c08",
        "colab": {
          "base_uri": "https://localhost:8080/"
        }
      },
      "source": [
        "# Count the number of samples less than 0, i.e. the area under the curve\n",
        "# before 0, represent the probability that site A is worse than site B.\n",
        "print(\"Probability site A is WORSE than site B: %.3f\" % \\\n",
        "    np.mean(delta_samples < 0))\n",
        "\n",
        "print(\"Probability site A is BETTER than site B: %.3f\" % \\\n",
        "    np.mean(delta_samples > 0))"
      ],
      "execution_count": 37,
      "outputs": [
        {
          "output_type": "stream",
          "text": [
            "Probability site A is WORSE than site B: 0.090\n",
            "Probability site A is BETTER than site B: 0.910\n"
          ],
          "name": "stdout"
        }
      ]
    },
    {
      "cell_type": "markdown",
      "metadata": {
        "id": "FIt3XF8jv-6R"
      },
      "source": [
        "If this probability is too high for comfortable decision-making, we can perform more trials on site B (as site B has less samples to begin with, each additional data point for site B contributes more inferential \"power\" than each additional data point for site A). \n",
        "\n",
        "Try playing with the parameters `true_p_A`, `true_p_B`, `N_A`, and `N_B`, to see what the posterior of $\\text{delta}$ looks like. Notice in all this, the difference in sample sizes between site A and site B was never mentioned: it naturally fits into Bayesian analysis.\n",
        "\n",
        "I hope the readers feel this style of A/B testing is more natural than hypothesis testing, which has probably confused more than helped practitioners. Later in this book, we will see two extensions of this model: the first to help dynamically adjust for bad sites, and the second will improve the speed of this computation by reducing the analysis to a single equation.   "
      ]
    },
    {
      "cell_type": "markdown",
      "metadata": {
        "id": "P1RQqVuXv-6T"
      },
      "source": [
        "## An algorithm for human deceit\n",
        "\n",
        "Social data has an additional layer of interest as people are not always honest with responses, which adds a further complication into inference. For example, simply asking individuals \"Have you ever cheated on a test?\" will surely contain some rate of dishonesty. What you can say for certain is that the true rate is less than your observed rate (assuming individuals lie *only* about *not cheating*; I cannot imagine one who would admit \"Yes\" to cheating when in fact they hadn't cheated). \n",
        "\n",
        "To present an elegant solution to circumventing this dishonesty problem, and to demonstrate Bayesian modeling, we first need to introduce the binomial distribution.\n",
        "\n",
        "### The Binomial Distribution\n",
        "\n",
        "The binomial distribution is one of the most popular distributions, mostly because of its simplicity and usefulness. Unlike the other distributions we have encountered thus far in the book, the binomial distribution has 2 parameters: $N$, a positive integer representing $N$ trials or number of instances of potential events, and $p$, the probability of an event occurring in a single trial. Like the Poisson distribution, it is a discrete distribution, but unlike the Poisson distribution, it only weighs integers from $0$ to $N$. The mass distribution looks like:\n",
        "\n",
        "$$P( X = k ) =  {{N}\\choose{k}}  p^k(1-p)^{N-k}$$\n",
        "\n",
        "If $X$ is a binomial random variable with parameters $p$ and $N$, denoted $X \\sim \\text{Bin}(N,p)$, then $X$ is the number of events that occurred in the $N$ trials (obviously $0 \\le X \\le N$). The larger $p$ is (while still remaining between 0 and 1), the more events are likely to occur. The expected value of a binomial is equal to $Np$. Below we plot the mass probability distribution for varying parameters. \n"
      ]
    },
    {
      "cell_type": "code",
      "metadata": {
        "id": "hbt677Ztv-6T",
        "outputId": "0ec9a08c-0a44-4e7f-e7ba-1c739bab46fb",
        "colab": {
          "base_uri": "https://localhost:8080/",
          "height": 297
        }
      },
      "source": [
        "figsize(12.5, 4)\n",
        "\n",
        "import scipy.stats as stats\n",
        "binomial = stats.binom\n",
        "\n",
        "parameters = [(10, .4), (10, .9)]\n",
        "colors = [\"#348ABD\", \"#A60628\"]\n",
        "\n",
        "for i in range(2):\n",
        "    N, p = parameters[i]\n",
        "    _x = np.arange(N + 1)\n",
        "    plt.bar(_x - 0.5, binomial.pmf(_x, N, p), color=colors[i],\n",
        "            edgecolor=colors[i],\n",
        "            alpha=0.6,\n",
        "            label=\"$N$: %d, $p$: %.1f\" % (N, p),\n",
        "            linewidth=3)\n",
        "\n",
        "plt.legend(loc=\"upper left\")\n",
        "plt.xlim(0, 10.5)\n",
        "plt.xlabel(\"$k$\")\n",
        "plt.ylabel(\"$P(X = k)$\")\n",
        "plt.title(\"Probability mass distributions of binomial random variables\");"
      ],
      "execution_count": 38,
      "outputs": [
        {
          "output_type": "display_data",
          "data": {
            "image/png": "[encoded data removed]",
            "text/plain": [
              "<Figure size 900x288 with 1 Axes>"
            ]
          },
          "metadata": {
            "tags": [],
            "needs_background": "light"
          }
        }
      ]
    },
    {
      "cell_type": "markdown",
      "metadata": {
        "id": "HHd6M6Rtv-6Z"
      },
      "source": [
        "The special case when $N = 1$ corresponds to the Bernoulli distribution. There is another connection between Bernoulli and Binomial random variables. If we have $X_1, X_2, ... , X_N$ Bernoulli random variables with the same $p$, then $Z = X_1 + X_2 + ... + X_N \\sim \\text{Binomial}(N, p )$.\n",
        "\n",
        "The expected value of a Bernoulli random variable is $p$. This can be seen by noting the more general Binomial random variable has expected value $Np$ and setting $N=1$."
      ]
    },
    {
      "cell_type": "markdown",
      "metadata": {
        "id": "2mtcTvtiv-6e"
      },
      "source": [
        "##### Example: Cheating among students\n",
        "\n",
        "We will use the binomial distribution to determine the frequency of students cheating during an exam. If we let $N$ be the total number of students who took the exam, and assuming each student is interviewed post-exam (answering without consequence), we will receive integer $X$ \"Yes I did cheat\" answers. We then find the posterior distribution of $p$, given $N$, some specified prior on $p$, and observed data $X$. \n",
        "\n",
        "This is a completely absurd model. No student, even with a free-pass against punishment, would admit to cheating. What we need is a better *algorithm* to ask students if they had cheated. Ideally the algorithm should encourage individuals to be honest while preserving privacy. The following proposed algorithm is a solution I greatly admire for its ingenuity and effectiveness:\n",
        "\n",
        "> In the interview process for each student, the student flips a coin, hidden from the interviewer. The student agrees to answer honestly if the coin comes up heads. Otherwise, if the coin comes up tails, the student (secretly) flips the coin again, and answers \"Yes, I did cheat\" if the coin flip lands heads, and \"No, I did not cheat\", if the coin flip lands tails. This way, the interviewer does not know if a \"Yes\" was the result of a guilty plea, or a Heads on a second coin toss. Thus privacy is preserved and the researchers receive honest answers. \n",
        "\n",
        "I call this the Privacy Algorithm. One could of course argue that the interviewers are still receiving false data since some *Yes*'s are not confessions but instead randomness, but an alternative perspective is that the researchers are discarding approximately half of their original dataset since half of the responses will be noise. But they have gained a systematic data generation process that can be modeled. Furthermore, they do not have to incorporate (perhaps somewhat naively) the possibility of deceitful answers. We can use PyMC3 to dig through this noisy model, and find a posterior distribution for the true frequency of liars. "
      ]
    },
    {
      "cell_type": "markdown",
      "metadata": {
        "id": "agffsWMJv-6f"
      },
      "source": [
        "Suppose 100 students are being surveyed for cheating, and we wish to find $p$, the proportion of cheaters. There are a few ways we can model this in PyMC3. I'll demonstrate the most explicit way, and later show a simplified version. Both versions arrive at the same inference. In our data-generation model, we sample $p$, the true proportion of cheaters, from a prior. Since we are quite ignorant about $p$, we will assign it a $\\text{Uniform}(0,1)$ prior."
      ]
    },
    {
      "cell_type": "code",
      "metadata": {
        "id": "dQeT-weav-6f"
      },
      "source": [
        "import pymc3 as pm\n",
        "\n",
        "N = 100\n",
        "with pm.Model() as model:\n",
        "    p = pm.Uniform(\"freq_cheating\", 0, 1)"
      ],
      "execution_count": 39,
      "outputs": []
    },
    {
      "cell_type": "markdown",
      "metadata": {
        "id": "inhUZSiZv-6i"
      },
      "source": [
        "Again, thinking of our data-generation model, we assign Bernoulli random variables to the 100 students: 1 implies they cheated and 0 implies they did not. "
      ]
    },
    {
      "cell_type": "code",
      "metadata": {
        "id": "UTdiVu4Tv-6i"
      },
      "source": [
        "with model:\n",
        "    true_answers = pm.Bernoulli(\"truths\", p, shape=N, testval=np.random.binomial(1, 0.5, N))"
      ],
      "execution_count": 40,
      "outputs": []
    },
    {
      "cell_type": "markdown",
      "metadata": {
        "id": "zmXV11zsv-6l"
      },
      "source": [
        "If we carry out the algorithm, the next step that occurs is the first coin-flip each student makes. This can be modeled again by sampling 100 Bernoulli random variables with $p=1/2$: denote a 1 as a *Heads* and 0 a *Tails*."
      ]
    },
    {
      "cell_type": "code",
      "metadata": {
        "id": "qn8mac6kv-6m",
        "outputId": "4ba58ed6-ca03-4dec-bf24-7beadb0c6864",
        "colab": {
          "base_uri": "https://localhost:8080/"
        }
      },
      "source": [
        "with model:\n",
        "    first_coin_flips = pm.Bernoulli(\"first_flips\", 0.5, shape=N, testval=np.random.binomial(1, 0.5, N))\n",
        "print(first_coin_flips.tag.test_value)"
      ],
      "execution_count": 41,
      "outputs": [
        {
          "output_type": "stream",
          "text": [
            "[1 0 1 0 1 1 1 1 1 1 0 0 0 1 0 1 1 0 0 0 1 1 0 1 0 0 0 0 1 1 1 0 0 0 0 1 0\n",
            " 1 0 1 0 1 1 1 0 1 1 0 1 1 1 1 1 1 0 1 1 1 0 1 0 0 1 1 0 0 1 0 0 0 1 1 1 1\n",
            " 1 0 0 0 1 1 0 0 1 1 1 1 0 0 0 1 0 1 1 0 1 0 0 0 0 1]\n"
          ],
          "name": "stdout"
        }
      ]
    },
    {
      "cell_type": "markdown",
      "metadata": {
        "id": "HX1ijIc-v-6s"
      },
      "source": [
        "Although *not everyone* flips a second time, we can still model the possible realization of second coin-flips:"
      ]
    },
    {
      "cell_type": "code",
      "metadata": {
        "id": "LZOqvchgv-6s"
      },
      "source": [
        "with model:\n",
        "    second_coin_flips = pm.Bernoulli(\"second_flips\", 0.5, shape=N, testval=np.random.binomial(1, 0.5, N))"
      ],
      "execution_count": 42,
      "outputs": []
    },
    {
      "cell_type": "markdown",
      "metadata": {
        "id": "77BLsqxGv-6y"
      },
      "source": [
        "Using these variables, we can return a possible realization of the *observed proportion* of \"Yes\" responses. We do this using a PyMC3 `deterministic` variable:"
      ]
    },
    {
      "cell_type": "code",
      "metadata": {
        "id": "D86L7KUEv-6z"
      },
      "source": [
        "import theano.tensor as tt\n",
        "with model:\n",
        "    val = first_coin_flips*true_answers + (1 - first_coin_flips)*second_coin_flips\n",
        "    observed_proportion = pm.Deterministic(\"observed_proportion\", tt.sum(val)/float(N))"
      ],
      "execution_count": 43,
      "outputs": []
    },
    {
      "cell_type": "markdown",
      "metadata": {
        "id": "3bKnGAwMv-63"
      },
      "source": [
        "The line `fc*t_a + (1-fc)*sc` contains the heart of the Privacy algorithm. Elements in this array are 1 *if and only if* i) the first toss is heads and the student cheated or ii) the first toss is tails, and the second is heads, and are 0 else. Finally, the last line sums this vector and divides by `float(N)`, produces a proportion. "
      ]
    },
    {
      "cell_type": "code",
      "metadata": {
        "id": "r-r-DdB-v-64",
        "outputId": "9576700b-1748-4472-b099-6bd5a5f5f0f3",
        "colab": {
          "base_uri": "https://localhost:8080/"
        }
      },
      "source": [
        "observed_proportion.tag.test_value"
      ],
      "execution_count": 44,
      "outputs": [
        {
          "output_type": "execute_result",
          "data": {
            "text/plain": [
              "array(0.56)"
            ]
          },
          "metadata": {
            "tags": []
          },
          "execution_count": 44
        }
      ]
    },
    {
      "cell_type": "markdown",
      "metadata": {
        "id": "waEe7tyTv-6_"
      },
      "source": [
        "Next we need a dataset. After performing our coin-flipped interviews the researchers received 35 \"Yes\" responses. To put this into a relative perspective, if there truly were no cheaters, we should expect to see on average 1/4 of all responses being a \"Yes\" (half chance of having first coin land Tails, and another half chance of having second coin land Heads), so about 25 responses in a cheat-free world. On the other hand, if *all students cheated*, we should expected to see approximately 3/4 of all responses be \"Yes\". \n",
        "\n",
        "The researchers observe a Binomial random variable, with `N = 100` and `p = observed_proportion` with `value = 35`:  "
      ]
    },
    {
      "cell_type": "code",
      "metadata": {
        "id": "ZYvcqD2Vv-6_"
      },
      "source": [
        "X = 35\n",
        "\n",
        "with model:\n",
        "    observations = pm.Binomial(\"obs\", N, observed_proportion, observed=X)"
      ],
      "execution_count": 45,
      "outputs": []
    },
    {
      "cell_type": "markdown",
      "metadata": {
        "id": "Bsi7G2l1v-7D"
      },
      "source": [
        "Below we add all the variables of interest to a `Model` container and run our black-box algorithm over the model. "
      ]
    },
    {
      "cell_type": "code",
      "metadata": {
        "id": "4eGeDohbv-7E",
        "outputId": "cc529891-9712-40dd-9577-1fd0cd2ba392",
        "colab": {
          "base_uri": "https://localhost:8080/"
        }
      },
      "source": [
        "# To be explained in Chapter 3!\n",
        "with model:\n",
        "    step = pm.Metropolis(vars=[p])\n",
        "    trace = pm.sample(40000, step=step)\n",
        "    burned_trace = trace[15000:]"
      ],
      "execution_count": 46,
      "outputs": [
        {
          "output_type": "stream",
          "text": [
            "Sequential sampling (2 chains in 1 job)\n",
            "CompoundStep\n",
            ">Metropolis: [freq_cheating]\n",
            ">BinaryGibbsMetropolis: [truths, first_flips, second_flips]\n",
            "100%|██████████| 40500/40500 [17:20<00:00, 38.93it/s]\n",
            "100%|██████████| 40500/40500 [17:22<00:00, 38.86it/s]\n",
            "The number of effective samples is smaller than 10% for some parameters.\n"
          ],
          "name": "stderr"
        }
      ]
    },
    {
      "cell_type": "code",
      "metadata": {
        "id": "3S_GD8x6v-7H",
        "outputId": "33077d59-6bbd-4999-b231-b04898eda37d",
        "colab": {
          "base_uri": "https://localhost:8080/",
          "height": 211
        }
      },
      "source": [
        "figsize(12.5, 3)\n",
        "p_trace = burned_trace[\"freq_cheating\"][15000:]\n",
        "plt.hist(p_trace, histtype=\"stepfilled\", alpha=0.85, bins=30, label=\"posterior distribution\", color=\"#348ABD\")\n",
        "plt.vlines([.05, .35], [0, 0], [5, 5], alpha=0.3)\n",
        "plt.xlim(0, 1)\n",
        "plt.legend();"
      ],
      "execution_count": 49,
      "outputs": [
        {
          "output_type": "display_data",
          "data": {
            "image/png": "[encoded data removed]",
            "text/plain": [
              "<Figure size 900x216 with 1 Axes>"
            ]
          },
          "metadata": {
            "tags": [],
            "needs_background": "light"
          }
        }
      ]
    },
    {
      "cell_type": "markdown",
      "metadata": {
        "id": "YeYNY58fv-7N"
      },
      "source": [
        "With regards to the above plot, we are still pretty uncertain about what the true frequency of cheaters might be, but we have narrowed it down to a range between 0.05 to 0.35 (marked by the solid lines). This is pretty good, as *a priori* we had no idea how many students might have cheated (hence the uniform distribution for our prior). On the other hand, it is also pretty bad since there is a .3 length window the true value most likely lives in. Have we even gained anything, or are we still too uncertain about the true frequency? \n",
        "\n",
        "I would argue, yes, we have discovered something. It is implausible, according to our posterior, that there are *no cheaters*, i.e. the posterior assigns low probability to $p=0$. Since we started with an uniform prior, treating all values of $p$ as equally plausible, but the data ruled out $p=0$ as a possibility, we can be confident that there were cheaters. \n",
        "\n",
        "This kind of algorithm can be used to gather private information from users and be *reasonably* confident that the data, though noisy, is truthful. \n",
        "\n"
      ]
    },
    {
      "cell_type": "markdown",
      "metadata": {
        "id": "VVfkwY5mv-7O"
      },
      "source": [
        "### Alternative PyMC3 Model\n",
        "\n",
        "Given a value for $p$ (which from our god-like position we know), we can find the probability the student will answer yes: \n",
        "\n",
        "\\begin{align}\n",
        "P(\\text{\"Yes\"}) = & P( \\text{Heads on first coin} )P( \\text{cheater} ) + P( \\text{Tails on first coin} )P( \\text{Heads on second coin} ) \\\\\\\\\n",
        "& = \\frac{1}{2}p + \\frac{1}{2}\\frac{1}{2}\\\\\\\\\n",
        "& = \\frac{p}{2} + \\frac{1}{4}\n",
        "\\end{align}\n",
        "\n",
        "Thus, knowing $p$ we know the probability a student will respond \"Yes\". In PyMC3, we can create a deterministic function to evaluate the probability of responding \"Yes\", given $p$:"
      ]
    },
    {
      "cell_type": "code",
      "metadata": {
        "id": "CSKEc5ttv-7O"
      },
      "source": [
        "with pm.Model() as model:\n",
        "    p = pm.Uniform(\"freq_cheating\", 0, 1)\n",
        "    p_skewed = pm.Deterministic(\"p_skewed\", 0.5*p + 0.25)"
      ],
      "execution_count": 50,
      "outputs": []
    },
    {
      "cell_type": "markdown",
      "metadata": {
        "id": "Lf88U8dov-7S"
      },
      "source": [
        "I could have typed `p_skewed  = 0.5*p + 0.25` instead for a one-liner, as the elementary operations of addition and scalar multiplication will implicitly create a `deterministic` variable, but I wanted to make the deterministic boilerplate explicit for clarity's sake. \n",
        "\n",
        "If we know the probability of respondents saying \"Yes\", which is `p_skewed`, and we have $N=100$ students, the number of \"Yes\" responses is a binomial random variable with parameters `N` and `p_skewed`.\n",
        "\n",
        "This is where we include our observed 35 \"Yes\" responses. In the declaration of the `pm.Binomial`, we include `value = 35` and `observed = True`."
      ]
    },
    {
      "cell_type": "code",
      "metadata": {
        "id": "7HM5FlQMv-7S"
      },
      "source": [
        "with model:\n",
        "    yes_responses = pm.Binomial(\"number_cheaters\", 100, p_skewed, observed=35)"
      ],
      "execution_count": 51,
      "outputs": []
    },
    {
      "cell_type": "markdown",
      "metadata": {
        "id": "wjj9PVEDv-7V"
      },
      "source": [
        "Below we add all the variables of interest to a `Model` container and run our black-box algorithm over the model. "
      ]
    },
    {
      "cell_type": "code",
      "metadata": {
        "id": "_gqoVBThv-7W",
        "outputId": "08455b99-2bb6-4988-d89c-e85b4745b9c2",
        "colab": {
          "base_uri": "https://localhost:8080/"
        }
      },
      "source": [
        "with model:\n",
        "    # To Be Explained in Chapter 3!\n",
        "    step = pm.Metropolis()\n",
        "    trace = pm.sample(25000, step=step)\n",
        "    burned_trace = trace[2500:]"
      ],
      "execution_count": 52,
      "outputs": [
        {
          "output_type": "stream",
          "text": [
            "Sequential sampling (2 chains in 1 job)\n",
            "Metropolis: [freq_cheating]\n",
            "100%|██████████| 25500/25500 [00:05<00:00, 5077.08it/s]\n",
            "100%|██████████| 25500/25500 [00:03<00:00, 6746.04it/s]\n",
            "The number of effective samples is smaller than 25% for some parameters.\n"
          ],
          "name": "stderr"
        }
      ]
    },
    {
      "cell_type": "code",
      "metadata": {
        "id": "M9ME0WOxv-7p",
        "outputId": "088f5c4e-9d14-4f2b-f03a-50dd5a955201",
        "colab": {
          "base_uri": "https://localhost:8080/",
          "height": 211
        }
      },
      "source": [
        "figsize(12.5, 3)\n",
        "p_trace = burned_trace[\"freq_cheating\"]\n",
        "plt.hist(p_trace, histtype=\"stepfilled\", alpha=0.85, bins=30, \n",
        "         label=\"posterior distribution\", color=\"#348ABD\")\n",
        "plt.vlines([.05, .35], [0, 0], [5, 5], alpha=0.2)\n",
        "plt.xlim(0, 1)\n",
        "plt.legend();"
      ],
      "execution_count": 54,
      "outputs": [
        {
          "output_type": "display_data",
          "data": {
            "image/png": "[encoded data removed]",
            "text/plain": [
              "<Figure size 900x216 with 1 Axes>"
            ]
          },
          "metadata": {
            "tags": [],
            "needs_background": "light"
          }
        }
      ]
    },
    {
      "cell_type": "markdown",
      "metadata": {
        "id": "_wPA233gv-70"
      },
      "source": [
        "### More PyMC3 Tricks\n",
        "\n",
        "#### Protip: Arrays of PyMC3 variables\n",
        "There is no reason why we cannot store multiple heterogeneous PyMC3 variables in a Numpy array. Just remember to set the `dtype` of the array to `object` upon initialization. For example:\n",
        "\n",
        "\n"
      ]
    },
    {
      "cell_type": "code",
      "metadata": {
        "id": "aQunMFe7v-72"
      },
      "source": [
        "N = 10\n",
        "x = np.ones(N, dtype=object)\n",
        "with pm.Model() as model:\n",
        "    for i in range(0, N):\n",
        "        x[i] = pm.Exponential('x_%i' % i, (i+1.0)**2)"
      ],
      "execution_count": 55,
      "outputs": []
    },
    {
      "cell_type": "markdown",
      "metadata": {
        "id": "n8CmiOQUv-78"
      },
      "source": [
        "The remainder of this chapter examines some practical examples of PyMC3 and PyMC3 modeling:"
      ]
    },
    {
      "cell_type": "markdown",
      "metadata": {
        "id": "Bh5KyHPPv-7_"
      },
      "source": [
        "\n",
        "##### Example: Challenger Space Shuttle Disaster <span id=\"challenger\"/>\n",
        "\n",
        "On January 28, 1986, the twenty-fifth flight of the U.S. space shuttle program ended in disaster when one of the rocket boosters of the Shuttle Challenger exploded shortly after lift-off, killing all seven crew members. The presidential commission on the accident concluded that it was caused by the failure of an O-ring in a field joint on the rocket booster, and that this failure was due to a faulty design that made the O-ring unacceptably sensitive to a number of factors including outside temperature. Of the previous 24 flights, data were available on failures of O-rings on 23, (one was lost at sea), and these data were discussed on the evening preceding the Challenger launch, but unfortunately only the data corresponding to the 7 flights on which there was a damage incident were considered important and these were thought to show no obvious trend. The data are shown below (see [1]):\n",
        "\n",
        "\n",
        "\n"
      ]
    },
    {
      "cell_type": "code",
      "metadata": {
        "id": "x2_7kjkEPOj0",
        "outputId": "adf8273a-00f0-43ef-b1e3-1a68c155f843",
        "colab": {
          "base_uri": "https://localhost:8080/"
        }
      },
      "source": [
        "from google.colab import drive\n",
        "drive.mount('/content/drive')\n",
        "\n",
        "data_dir = \"/content/drive/My Drive/Bayesian_Methods_for_Hackers/input/\""
      ],
      "execution_count": 58,
      "outputs": [
        {
          "output_type": "stream",
          "text": [
            "Drive already mounted at /content/drive; to attempt to forcibly remount, call drive.mount(\"/content/drive\", force_remount=True).\n"
          ],
          "name": "stdout"
        }
      ]
    },
    {
      "cell_type": "code",
      "metadata": {
        "id": "lamE3uM9v-8B",
        "outputId": "92a554d9-567c-4d57-c866-3b660e0dd671",
        "colab": {
          "base_uri": "https://localhost:8080/",
          "height": 700
        }
      },
      "source": [
        "figsize(12.5, 3.5)\n",
        "np.set_printoptions(precision=3, suppress=True)\n",
        "challenger_data = np.genfromtxt(data_dir + \"/challenger_data.csv\", skip_header=1,\n",
        "                                usecols=[1, 2], missing_values=\"NA\",\n",
        "                                delimiter=\",\")\n",
        "#drop the NA values\n",
        "challenger_data = challenger_data[~np.isnan(challenger_data[:, 1])]\n",
        "\n",
        "#plot it, as a function of tempature (the first column)\n",
        "print(\"Temp (F), O-Ring failure?\")\n",
        "print(challenger_data)\n",
        "\n",
        "plt.scatter(challenger_data[:, 0], challenger_data[:, 1], s=75, color=\"k\",\n",
        "            alpha=0.5)\n",
        "plt.yticks([0, 1])\n",
        "plt.ylabel(\"Damage Incident?\")\n",
        "plt.xlabel(\"Outside temperature (Fahrenheit)\")\n",
        "plt.title(\"Defects of the Space Shuttle O-Rings vs temperature\");\n"
      ],
      "execution_count": 59,
      "outputs": [
        {
          "output_type": "stream",
          "text": [
            "Temp (F), O-Ring failure?\n",
            "[[66.  0.]\n",
            " [70.  1.]\n",
            " [69.  0.]\n",
            " [68.  0.]\n",
            " [67.  0.]\n",
            " [72.  0.]\n",
            " [73.  0.]\n",
            " [70.  0.]\n",
            " [57.  1.]\n",
            " [63.  1.]\n",
            " [70.  1.]\n",
            " [78.  0.]\n",
            " [67.  0.]\n",
            " [53.  1.]\n",
            " [67.  0.]\n",
            " [75.  0.]\n",
            " [70.  0.]\n",
            " [81.  0.]\n",
            " [76.  0.]\n",
            " [79.  0.]\n",
            " [75.  1.]\n",
            " [76.  0.]\n",
            " [58.  1.]]\n"
          ],
          "name": "stdout"
        },
        {
          "output_type": "display_data",
          "data": {
            "image/png": "[encoded data removed]",
            "text/plain": [
              "<Figure size 900x252 with 1 Axes>"
            ]
          },
          "metadata": {
            "tags": [],
            "needs_background": "light"
          }
        }
      ]
    },
    {
      "cell_type": "markdown",
      "metadata": {
        "id": "mNo4lHbJv-8E"
      },
      "source": [
        "It looks clear that *the probability* of damage incidents occurring increases as the outside temperature decreases. We are interested in modeling the probability here because it does not look like there is a strict cutoff point between temperature and a damage incident occurring. The best we can do is ask \"At temperature $t$, what is the probability of a damage incident?\". The goal of this example is to answer that question.\n",
        "\n",
        "We need a function of temperature, call it $p(t)$, that is bounded between 0 and 1 (so as to model a probability) and changes from 1 to 0 as we increase temperature. There are actually many such functions, but the most popular choice is the *logistic function.*\n",
        "\n",
        "$$p(t) = \\frac{1}{ 1 + e^{ \\;\\beta t } } $$\n",
        "\n",
        "In this model, $\\beta$ is the variable we are uncertain about. Below is the function plotted for $\\beta = 1, 3, -5$."
      ]
    },
    {
      "cell_type": "code",
      "metadata": {
        "id": "fnCejj29v-8F",
        "outputId": "07e05b48-6f7d-43cd-f2c5-b7c60ab69783",
        "colab": {
          "base_uri": "https://localhost:8080/",
          "height": 211
        }
      },
      "source": [
        "figsize(12, 3)\n",
        "\n",
        "def logistic(x, beta):\n",
        "    return 1.0 / (1.0 + np.exp(beta * x))\n",
        "\n",
        "x = np.linspace(-4, 4, 100)\n",
        "plt.plot(x, logistic(x, 1), label=r\"$\\beta = 1$\")\n",
        "plt.plot(x, logistic(x, 3), label=r\"$\\beta = 3$\")\n",
        "plt.plot(x, logistic(x, -5), label=r\"$\\beta = -5$\")\n",
        "plt.legend();"
      ],
      "execution_count": 60,
      "outputs": [
        {
          "output_type": "display_data",
          "data": {
            "image/png": "[encoded data removed]",
            "text/plain": [
              "<Figure size 864x216 with 1 Axes>"
            ]
          },
          "metadata": {
            "tags": [],
            "needs_background": "light"
          }
        }
      ]
    },
    {
      "cell_type": "markdown",
      "metadata": {
        "id": "rWwV_dtBv-8I"
      },
      "source": [
        "But something is missing. In the plot of the logistic function, the probability changes only near zero, but in our data above the probability changes around 65 to 70. We need to add a *bias* term to our logistic function:\n",
        "\n",
        "$$p(t) = \\frac{1}{ 1 + e^{ \\;\\beta t + \\alpha } } $$\n",
        "\n",
        "Some plots are below, with differing $\\alpha$."
      ]
    },
    {
      "cell_type": "code",
      "metadata": {
        "id": "vE3Zx2fxv-8J",
        "outputId": "e14d02a1-3f45-46f7-90dd-464f63627d64",
        "colab": {
          "base_uri": "https://localhost:8080/",
          "height": 211
        }
      },
      "source": [
        "def logistic(x, beta, alpha=0):\n",
        "    return 1.0 / (1.0 + np.exp(np.dot(beta, x) + alpha))\n",
        "\n",
        "x = np.linspace(-4, 4, 100)\n",
        "\n",
        "plt.plot(x, logistic(x, 1), label=r\"$\\beta = 1$\", ls=\"--\", lw=1)\n",
        "plt.plot(x, logistic(x, 3), label=r\"$\\beta = 3$\", ls=\"--\", lw=1)\n",
        "plt.plot(x, logistic(x, -5), label=r\"$\\beta = -5$\", ls=\"--\", lw=1)\n",
        "\n",
        "plt.plot(x, logistic(x, 1, 1), label=r\"$\\beta = 1, \\alpha = 1$\",\n",
        "         color=\"#348ABD\")\n",
        "plt.plot(x, logistic(x, 3, -2), label=r\"$\\beta = 3, \\alpha = -2$\",\n",
        "         color=\"#A60628\")\n",
        "plt.plot(x, logistic(x, -5, 7), label=r\"$\\beta = -5, \\alpha = 7$\",\n",
        "         color=\"#7A68A6\")\n",
        "\n",
        "plt.legend(loc=\"lower left\");"
      ],
      "execution_count": 61,
      "outputs": [
        {
          "output_type": "display_data",
          "data": {
            "image/png": "[encoded data removed]",
            "text/plain": [
              "<Figure size 864x216 with 1 Axes>"
            ]
          },
          "metadata": {
            "tags": [],
            "needs_background": "light"
          }
        }
      ]
    },
    {
      "cell_type": "markdown",
      "metadata": {
        "id": "1lPXjKx3v-8R"
      },
      "source": [
        "Adding a constant term $\\alpha$ amounts to shifting the curve left or right (hence why it is called a *bias*).\n",
        "\n",
        "Let's start modeling this in PyMC3. The $\\beta, \\alpha$ parameters have no reason to be positive, bounded or relatively large, so they are best modeled by a *Normal random variable*, introduced next."
      ]
    },
    {
      "cell_type": "markdown",
      "metadata": {
        "id": "aT6EkZwdv-8R"
      },
      "source": [
        "### Normal distributions\n",
        "\n",
        "A Normal random variable, denoted $X \\sim N(\\mu, 1/\\tau)$, has a distribution with two parameters: the mean, $\\mu$, and the *precision*, $\\tau$. Those familiar with the Normal distribution already have probably seen $\\sigma^2$ instead of $\\tau^{-1}$. They are in fact reciprocals of each other. The change was motivated by simpler mathematical analysis and is an artifact of older Bayesian methods. Just remember: the smaller $\\tau$, the larger the spread of the distribution (i.e. we are more uncertain); the larger $\\tau$, the tighter the distribution (i.e. we are more certain). Regardless, $\\tau$ is always positive. \n",
        "\n",
        "The probability density function of a $N( \\mu, 1/\\tau)$ random variable is:\n",
        "\n",
        "$$ f(x | \\mu, \\tau) = \\sqrt{\\frac{\\tau}{2\\pi}} \\exp\\left( -\\frac{\\tau}{2} (x-\\mu)^2 \\right) $$\n",
        "\n",
        "We plot some different density functions below. "
      ]
    },
    {
      "cell_type": "code",
      "metadata": {
        "id": "czvU9g9bv-8R",
        "outputId": "4d44178d-749a-492b-891a-88d87ad57562",
        "colab": {
          "base_uri": "https://localhost:8080/",
          "height": 241
        }
      },
      "source": [
        "import scipy.stats as stats\n",
        "\n",
        "nor = stats.norm\n",
        "x = np.linspace(-8, 7, 150)\n",
        "mu = (-2, 0, 3)\n",
        "tau = (.7, 1, 2.8)\n",
        "colors = [\"#348ABD\", \"#A60628\", \"#7A68A6\"]\n",
        "parameters = zip(mu, tau, colors)\n",
        "\n",
        "for _mu, _tau, _color in parameters:\n",
        "    plt.plot(x, nor.pdf(x, _mu, scale=1./_tau),\n",
        "             label=\"$\\mu = %d,\\;\\\\tau = %.1f$\" % (_mu, _tau), color=_color)\n",
        "    plt.fill_between(x, nor.pdf(x, _mu, scale=1./_tau), color=_color,\n",
        "                     alpha=.33)\n",
        "\n",
        "plt.legend(loc=\"upper right\")\n",
        "plt.xlabel(\"$x$\")\n",
        "plt.ylabel(\"density function at $x$\")\n",
        "plt.title(\"Probability distribution of three different Normal random \\\n",
        "variables\");"
      ],
      "execution_count": 62,
      "outputs": [
        {
          "output_type": "display_data",
          "data": {
            "image/png": "[encoded data removed]",
            "text/plain": [
              "<Figure size 864x216 with 1 Axes>"
            ]
          },
          "metadata": {
            "tags": [],
            "needs_background": "light"
          }
        }
      ]
    },
    {
      "cell_type": "markdown",
      "metadata": {
        "id": "4N5P0ql3v-8T"
      },
      "source": [
        "A Normal random variable can be take on any real number, but the variable is very likely to be relatively close to $\\mu$. In fact, the expected value of a Normal is equal to its $\\mu$ parameter:\n",
        "\n",
        "$$ E[ X | \\mu, \\tau] = \\mu$$\n",
        "\n",
        "and its variance is equal to the inverse of $\\tau$:\n",
        "\n",
        "$$Var( X | \\mu, \\tau ) = \\frac{1}{\\tau}$$\n",
        "\n",
        "\n",
        "\n",
        "Below we continue our modeling of the Challenger space craft:"
      ]
    },
    {
      "cell_type": "code",
      "metadata": {
        "id": "OS77wh6Gv-8T"
      },
      "source": [
        "import pymc3 as pm\n",
        "\n",
        "temperature = challenger_data[:, 0]\n",
        "D = challenger_data[:, 1]  # defect or not?\n",
        "\n",
        "#notice the`value` here. We explain why below.\n",
        "with pm.Model() as model:\n",
        "    beta = pm.Normal(\"beta\", mu=0, tau=0.001, testval=0)\n",
        "    alpha = pm.Normal(\"alpha\", mu=0, tau=0.001, testval=0)\n",
        "    p = pm.Deterministic(\"p\", 1.0/(1. + tt.exp(beta*temperature + alpha)))"
      ],
      "execution_count": 63,
      "outputs": []
    },
    {
      "cell_type": "markdown",
      "metadata": {
        "id": "94_5q3Bgv-8W"
      },
      "source": [
        "We have our probabilities, but how do we connect them to our observed data? A *Bernoulli* random variable with parameter $p$, denoted $\\text{Ber}(p)$, is a random variable that takes value 1 with probability $p$, and 0 else. Thus, our model can look like:\n",
        "\n",
        "$$ \\text{Defect Incident, $D_i$} \\sim \\text{Ber}( \\;p(t_i)\\; ), \\;\\; i=1..N$$\n",
        "\n",
        "where $p(t)$ is our logistic function and $t_i$ are the temperatures we have observations about. Notice in the above code we had to set the values of `beta` and `alpha` to 0. The reason for this is that if `beta` and `alpha` are very large, they make `p` equal to 1 or 0. Unfortunately, `pm.Bernoulli` does not like probabilities of exactly 0 or 1, though they are mathematically well-defined probabilities. So by setting the coefficient values to `0`, we set the variable `p` to be a reasonable starting value. This has no effect on our results, nor does it mean we are including any additional information in our prior. It is simply a computational caveat in PyMC3. "
      ]
    },
    {
      "cell_type": "code",
      "metadata": {
        "id": "POtt02Hkv-8W",
        "outputId": "be5d2a37-5211-4722-a938-db29354a7116",
        "colab": {
          "base_uri": "https://localhost:8080/"
        }
      },
      "source": [
        "# connect the probabilities in `p` with our observations through a\n",
        "# Bernoulli random variable.\n",
        "with model:\n",
        "    observed = pm.Bernoulli(\"bernoulli_obs\", p, observed=D)\n",
        "    \n",
        "    # Mysterious code to be explained in Chapter 3\n",
        "    start = pm.find_MAP()\n",
        "    step = pm.Metropolis()\n",
        "    trace = pm.sample(120000, step=step, start=start)\n",
        "    burned_trace = trace[100000::2]"
      ],
      "execution_count": 64,
      "outputs": [
        {
          "output_type": "stream",
          "text": [
            "/usr/local/lib/python3.6/dist-packages/pymc3/tuning/starting.py:61: UserWarning: find_MAP should not be used to initialize the NUTS sampler, simply call pymc3.sample() and it will automatically initialize NUTS in a better way.\n",
            "  warnings.warn('find_MAP should not be used to initialize the NUTS sampler, simply call pymc3.sample() and it will automatically initialize NUTS in a better way.')\n",
            "logp = -19.024, ||grad|| = 9.9071: 100%|██████████| 27/27 [00:00<00:00, 668.12it/s]  \n",
            "Sequential sampling (2 chains in 1 job)\n",
            "CompoundStep\n",
            ">Metropolis: [alpha]\n",
            ">Metropolis: [beta]\n",
            "100%|██████████| 120500/120500 [00:47<00:00, 2561.45it/s]\n",
            "100%|██████████| 120500/120500 [00:49<00:00, 2416.37it/s]\n",
            "The estimated number of effective samples is smaller than 200 for some parameters.\n"
          ],
          "name": "stderr"
        }
      ]
    },
    {
      "cell_type": "markdown",
      "metadata": {
        "id": "tuvJfk2Wv-8X"
      },
      "source": [
        "We have trained our model on the observed data, now we can sample values from the posterior. Let's look at the posterior distributions for $\\alpha$ and $\\beta$:"
      ]
    },
    {
      "cell_type": "code",
      "metadata": {
        "id": "cNqcnZn9v-8Y",
        "outputId": "1347dbcb-4fc7-4d56-edef-c186227f0c9e",
        "colab": {
          "base_uri": "https://localhost:8080/",
          "height": 391
        }
      },
      "source": [
        "alpha_samples = burned_trace[\"alpha\"][:, None]  # best to make them 1d\n",
        "beta_samples = burned_trace[\"beta\"][:, None]\n",
        "\n",
        "figsize(12.5, 6)\n",
        "\n",
        "#histogram of the samples:\n",
        "plt.subplot(211)\n",
        "plt.title(r\"Posterior distributions of the variables $\\alpha, \\beta$\")\n",
        "plt.hist(beta_samples, histtype='stepfilled', bins=35, alpha=0.85,\n",
        "         label=r\"posterior of $\\beta$\", color=\"#7A68A6\")\n",
        "plt.legend()\n",
        "\n",
        "plt.subplot(212)\n",
        "plt.hist(alpha_samples, histtype='stepfilled', bins=35, alpha=0.85,\n",
        "         label=r\"posterior of $\\alpha$\", color=\"#A60628\")\n",
        "plt.legend();"
      ],
      "execution_count": 67,
      "outputs": [
        {
          "output_type": "display_data",
          "data": {
            "image/png": "[encoded data removed]",
            "text/plain": [
              "<Figure size 900x432 with 2 Axes>"
            ]
          },
          "metadata": {
            "tags": [],
            "needs_background": "light"
          }
        }
      ]
    },
    {
      "cell_type": "markdown",
      "metadata": {
        "id": "0tyDk84bv-8a"
      },
      "source": [
        "All samples of $\\beta$ are greater than 0. If instead the posterior was centered around 0, we may suspect that $\\beta = 0$, implying that temperature has no effect on the probability of defect. \n",
        "\n",
        "Similarly, all $\\alpha$ posterior values are negative and far away from 0, implying that it is correct to believe that $\\alpha$ is significantly less than 0. \n",
        "\n",
        "Regarding the spread of the data, we are very uncertain about what the true parameters might be (though considering the low sample size and the large overlap of defects-to-nondefects this behaviour is perhaps expected).  \n",
        "\n",
        "Next, let's look at the *expected probability* for a specific value of the temperature. That is, we average over all samples from the posterior to get a likely value for $p(t_i)$."
      ]
    },
    {
      "cell_type": "code",
      "metadata": {
        "id": "rvXkEmPKv-8a"
      },
      "source": [
        "t = np.linspace(temperature.min() - 5, temperature.max()+5, 50)[:, None]\n",
        "p_t = logistic(t.T, beta_samples, alpha_samples)\n",
        "\n",
        "mean_prob_t = p_t.mean(axis=0)"
      ],
      "execution_count": 68,
      "outputs": []
    },
    {
      "cell_type": "code",
      "metadata": {
        "id": "KV_B0Onsv-8d",
        "outputId": "b8fdf90a-9f3d-4451-ec14-782bf254fd16",
        "colab": {
          "base_uri": "https://localhost:8080/",
          "height": 295
        }
      },
      "source": [
        "figsize(12.5, 4)\n",
        "\n",
        "plt.plot(t, mean_prob_t, lw=3, label=\"average posterior \\nprobability \\\n",
        "of defect\")\n",
        "plt.plot(t, p_t[0, :], ls=\"--\", label=\"realization from posterior\")\n",
        "plt.plot(t, p_t[-2, :], ls=\"--\", label=\"realization from posterior\")\n",
        "plt.scatter(temperature, D, color=\"k\", s=50, alpha=0.5)\n",
        "plt.title(\"Posterior expected value of probability of defect; \\\n",
        "plus realizations\")\n",
        "plt.legend(loc=\"lower left\")\n",
        "plt.ylim(-0.1, 1.1)\n",
        "plt.xlim(t.min(), t.max())\n",
        "plt.ylabel(\"probability\")\n",
        "plt.xlabel(\"temperature\");"
      ],
      "execution_count": 69,
      "outputs": [
        {
          "output_type": "display_data",
          "data": {
            "image/png": "[encoded data removed]",
            "text/plain": [
              "<Figure size 900x288 with 1 Axes>"
            ]
          },
          "metadata": {
            "tags": [],
            "needs_background": "light"
          }
        }
      ]
    },
    {
      "cell_type": "markdown",
      "metadata": {
        "id": "OgI5wo6Sv-8h"
      },
      "source": [
        "Above we also plotted two possible realizations of what the actual underlying system might be. Both are equally likely as any other draw. The blue line is what occurs when we average all the 20000 possible dotted lines together.\n",
        "\n",
        "\n",
        "An interesting question to ask is for what temperatures are we most uncertain about the defect-probability? Below we plot the expected value line **and** the associated 95% intervals for each temperature. "
      ]
    },
    {
      "cell_type": "code",
      "metadata": {
        "id": "n9e4JOqvv-8i",
        "outputId": "6a4b0fec-359a-4e18-b31e-da1c25e8aadd",
        "colab": {
          "base_uri": "https://localhost:8080/",
          "height": 301
        }
      },
      "source": [
        "from scipy.stats.mstats import mquantiles\n",
        "\n",
        "# vectorized bottom and top 2.5% quantiles for \"confidence interval\"\n",
        "qs = mquantiles(p_t, [0.025, 0.975], axis=0)\n",
        "plt.fill_between(t[:, 0], *qs, alpha=0.7,\n",
        "                 color=\"#7A68A6\")\n",
        "\n",
        "plt.plot(t[:, 0], qs[0], label=\"95% CI\", color=\"#7A68A6\", alpha=0.7)\n",
        "\n",
        "plt.plot(t, mean_prob_t, lw=1, ls=\"--\", color=\"k\",\n",
        "         label=\"average posterior \\nprobability of defect\")\n",
        "\n",
        "plt.xlim(t.min(), t.max())\n",
        "plt.ylim(-0.02, 1.02)\n",
        "plt.legend(loc=\"lower left\")\n",
        "plt.scatter(temperature, D, color=\"k\", s=50, alpha=0.5)\n",
        "plt.xlabel(\"temp, $t$\")\n",
        "\n",
        "plt.ylabel(\"probability estimate\")\n",
        "plt.title(\"Posterior probability estimates given temp. $t$\");"
      ],
      "execution_count": 70,
      "outputs": [
        {
          "output_type": "display_data",
          "data": {
            "image/png": "[encoded data removed]",
            "text/plain": [
              "<Figure size 900x288 with 1 Axes>"
            ]
          },
          "metadata": {
            "tags": [],
            "needs_background": "light"
          }
        }
      ]
    },
    {
      "cell_type": "markdown",
      "metadata": {
        "id": "WxZqLG5Yv-8j"
      },
      "source": [
        "The *95% credible interval*, or 95% CI, painted in purple, represents the interval, for each temperature, that contains 95% of the distribution. For example, at 65 degrees, we can be 95% sure that the probability of defect lies between 0.25 and 0.75.\n",
        "\n",
        "More generally, we can see that as the temperature nears 60 degrees, the CI's spread out over [0,1] quickly. As we pass 70 degrees, the CI's tighten again. This can give us insight about how to proceed next: we should probably test more O-rings around 60-65 temperature to get a better estimate of probabilities in that range. Similarly, when reporting to scientists your estimates, you should be very cautious about simply telling them the expected probability, as we can see this does not reflect how *wide* the posterior distribution is."
      ]
    },
    {
      "cell_type": "markdown",
      "metadata": {
        "id": "iQ0do7Riv-8j"
      },
      "source": [
        "### What about the day of the Challenger disaster?\n",
        "\n",
        "On the day of the Challenger disaster, the outside temperature was 31 degrees Fahrenheit. What is the posterior distribution of a defect occurring,  given this temperature? The distribution is plotted below. It looks almost guaranteed that the Challenger was going to be subject to defective O-rings."
      ]
    },
    {
      "cell_type": "code",
      "metadata": {
        "id": "KSgQKW7Wv-8j",
        "outputId": "d8197a52-b080-40e6-b37b-ef2998ac7a08",
        "colab": {
          "base_uri": "https://localhost:8080/",
          "height": 216
        }
      },
      "source": [
        "figsize(12.5, 2.5)\n",
        "\n",
        "prob_31 = logistic(31, beta_samples, alpha_samples)\n",
        "\n",
        "plt.xlim(0.995, 1)\n",
        "plt.hist(prob_31, bins=1000, histtype='stepfilled')\n",
        "plt.title(\"Posterior distribution of probability of defect, given $t = 31$\")\n",
        "plt.xlabel(\"probability of defect occurring in O-ring\");"
      ],
      "execution_count": 72,
      "outputs": [
        {
          "output_type": "display_data",
          "data": {
            "image/png": "[encoded data removed]",
            "text/plain": [
              "<Figure size 900x180 with 1 Axes>"
            ]
          },
          "metadata": {
            "tags": [],
            "needs_background": "light"
          }
        }
      ]
    },
    {
      "cell_type": "markdown",
      "metadata": {
        "id": "2OS-y2zev-8l"
      },
      "source": [
        "### Is our model appropriate?\n",
        "\n",
        "The skeptical reader will say \"You deliberately chose the logistic function for $p(t)$ and the specific priors. Perhaps other functions or priors will give different results. How do I know I have chosen a good model?\" This is absolutely true. To consider an extreme situation, what if I had chosen the function $p(t) = 1,\\; \\forall t$, which guarantees a defect always occurring: I would have again predicted disaster on January 28th. Yet this is clearly a poorly chosen model. On the other hand, if I did choose the logistic function for $p(t)$, but specified all my priors to be very tight around 0, likely we would have very different posterior distributions. How do we know our model is an expression of the data? This encourages us to measure the model's **goodness of fit**.\n",
        "\n",
        "We can think: *how can we test whether our model is a bad fit?* An idea is to compare observed data (which if we recall is a *fixed* stochastic variable) with artificial dataset which we can simulate. The rationale is that if the simulated dataset does not appear similar, statistically, to the observed dataset, then likely our model is not accurately represented the observed data. \n",
        "\n",
        "Previously in this Chapter, we simulated artificial dataset for the SMS example. To do this, we sampled values from the priors. We saw how varied the resulting datasets looked like, and rarely did they mimic our observed dataset. In the current example,  we should sample from the *posterior* distributions to create *very plausible datasets*. Luckily, our Bayesian framework makes this very easy. We only need to create a new `Stochastic` variable, that is exactly the same as our variable that stored the observations, but minus the observations themselves. If you recall, our `Stochastic` variable that stored our observed data was:\n",
        "\n",
        "    observed = pm.Bernoulli(\"bernoulli_obs\", p, observed=D)\n",
        "\n",
        "Hence we create:\n",
        "    \n",
        "    simulated_data = pm.Bernoulli(\"simulation_data\", p)\n",
        "\n",
        "Let's simulate 10 000:"
      ]
    },
    {
      "cell_type": "code",
      "metadata": {
        "id": "eWZuyeCav-8l",
        "outputId": "dc491765-b7a2-4e27-b054-53c5135fd95b",
        "colab": {
          "base_uri": "https://localhost:8080/"
        }
      },
      "source": [
        "N = 10000\n",
        "with pm.Model() as model:\n",
        "    beta = pm.Normal(\"beta\", mu=0, tau=0.001, testval=0)\n",
        "    alpha = pm.Normal(\"alpha\", mu=0, tau=0.001, testval=0)\n",
        "    p = pm.Deterministic(\"p\", 1.0/(1. + tt.exp(beta*temperature + alpha)))\n",
        "    observed = pm.Bernoulli(\"bernoulli_obs\", p, observed=D)\n",
        "    \n",
        "    simulated = pm.Bernoulli(\"bernoulli_sim\", p, shape=p.tag.test_value.shape)\n",
        "    step = pm.Metropolis(vars=[p])\n",
        "    trace = pm.sample(N, step=step)"
      ],
      "execution_count": 73,
      "outputs": [
        {
          "output_type": "stream",
          "text": [
            "Sequential sampling (2 chains in 1 job)\n",
            "CompoundStep\n",
            ">CompoundStep\n",
            ">>Metropolis: [beta]\n",
            ">>Metropolis: [alpha]\n",
            ">BinaryGibbsMetropolis: [bernoulli_sim]\n",
            "100%|██████████| 10500/10500 [00:31<00:00, 337.85it/s]\n",
            "100%|██████████| 10500/10500 [00:29<00:00, 361.12it/s]\n",
            "The gelman-rubin statistic is larger than 1.2 for some parameters.\n",
            "The estimated number of effective samples is smaller than 200 for some parameters.\n"
          ],
          "name": "stderr"
        }
      ]
    },
    {
      "cell_type": "code",
      "metadata": {
        "id": "FRtEtUdXv-8n",
        "outputId": "e54afac4-c769-47f0-b748-323564b1b928",
        "colab": {
          "base_uri": "https://localhost:8080/",
          "height": 339
        }
      },
      "source": [
        "figsize(12.5, 5)\n",
        "\n",
        "simulations = trace[\"bernoulli_sim\"]\n",
        "print(simulations.shape)\n",
        "\n",
        "plt.title(\"Simulated dataset using posterior parameters\")\n",
        "figsize(12.5, 6)\n",
        "for i in range(4):\n",
        "    ax = plt.subplot(4, 1, i+1)\n",
        "    plt.scatter(temperature, simulations[1000*i, :], color=\"k\",\n",
        "                s=50, alpha=0.6)"
      ],
      "execution_count": 74,
      "outputs": [
        {
          "output_type": "stream",
          "text": [
            "(20000, 23)\n"
          ],
          "name": "stdout"
        },
        {
          "output_type": "display_data",
          "data": {
            "image/png": "[encoded data removed]",
            "text/plain": [
              "<Figure size 900x360 with 4 Axes>"
            ]
          },
          "metadata": {
            "tags": [],
            "needs_background": "light"
          }
        }
      ]
    },
    {
      "cell_type": "markdown",
      "metadata": {
        "id": "2Nx6MAjvv-8p"
      },
      "source": [
        "Note that the above plots are different (if you can think of a cleaner way to present this, please send a pull request and answer [here](http://stats.stackexchange.com/questions/53078/how-to-visualize-bayesian-goodness-of-fit-for-logistic-regression)!).\n",
        "\n",
        "We wish to assess how good our model is. \"Good\" is a subjective term of course, so results must be relative to other models. \n",
        "\n",
        "We will be doing this graphically as well, which may seem like an even less objective method. The alternative is to use *Bayesian p-values*. These are still subjective, as the proper cutoff between good and bad is arbitrary. Gelman emphasises that the graphical tests are more illuminating [7] than p-value tests. We agree.\n",
        "\n",
        "The following graphical test is a novel data-viz approach to logistic regression. The plots are called *separation plots*[8]. For a suite of models we wish to compare, each model is plotted on an individual separation plot. I leave most of the technical details about separation plots to the very accessible [original paper](http://mdwardlab.com/sites/default/files/GreenhillWardSacks.pdf), but I'll summarize their use here.\n",
        "\n",
        "For each model, we calculate the proportion of times the posterior simulation proposed a value of 1 for a particular temperature, i.e. compute $P( \\;\\text{Defect} = 1 | t, \\alpha, \\beta )$ by averaging. This gives us the posterior probability of a defect at each data point in our dataset. For example, for the model we used above:"
      ]
    },
    {
      "cell_type": "code",
      "metadata": {
        "id": "NSx25SNmv-8p",
        "outputId": "8ca6ce9d-8998-40c2-ad7e-3eb20120a40d",
        "colab": {
          "base_uri": "https://localhost:8080/"
        }
      },
      "source": [
        "posterior_probability = simulations.mean(axis=0)\n",
        "print(\"posterior prob of defect | realized defect \")\n",
        "for i in range(len(D)):\n",
        "    print(\"%.2f                     |   %d\" % (posterior_probability[i], D[i]))"
      ],
      "execution_count": 75,
      "outputs": [
        {
          "output_type": "stream",
          "text": [
            "posterior prob of defect | realized defect \n",
            "0.40                     |   0\n",
            "0.26                     |   1\n",
            "0.29                     |   0\n",
            "0.32                     |   0\n",
            "0.36                     |   0\n",
            "0.21                     |   0\n",
            "0.18                     |   0\n",
            "0.26                     |   0\n",
            "0.68                     |   1\n",
            "0.51                     |   1\n",
            "0.26                     |   1\n",
            "0.11                     |   0\n",
            "0.36                     |   0\n",
            "0.76                     |   1\n",
            "0.36                     |   0\n",
            "0.15                     |   0\n",
            "0.26                     |   0\n",
            "0.09                     |   0\n",
            "0.13                     |   0\n",
            "0.10                     |   0\n",
            "0.15                     |   1\n",
            "0.14                     |   0\n",
            "0.66                     |   1\n"
          ],
          "name": "stdout"
        }
      ]
    },
    {
      "cell_type": "markdown",
      "metadata": {
        "id": "qFj09fQOv-8r"
      },
      "source": [
        "Next we sort each column by the posterior probabilities:"
      ]
    },
    {
      "cell_type": "code",
      "metadata": {
        "id": "GrvORaFRv-8r",
        "outputId": "ca9f9a18-63d6-4392-b581-77edf627b9db",
        "colab": {
          "base_uri": "https://localhost:8080/"
        }
      },
      "source": [
        "ix = np.argsort(posterior_probability)\n",
        "print(\"probb | defect \")\n",
        "for i in range(len(D)):\n",
        "    print(\"%.2f  |   %d\" % (posterior_probability[ix[i]], D[ix[i]]))"
      ],
      "execution_count": 76,
      "outputs": [
        {
          "output_type": "stream",
          "text": [
            "probb | defect \n",
            "0.09  |   0\n",
            "0.10  |   0\n",
            "0.11  |   0\n",
            "0.13  |   0\n",
            "0.14  |   0\n",
            "0.15  |   0\n",
            "0.15  |   1\n",
            "0.18  |   0\n",
            "0.21  |   0\n",
            "0.26  |   1\n",
            "0.26  |   0\n",
            "0.26  |   1\n",
            "0.26  |   0\n",
            "0.29  |   0\n",
            "0.32  |   0\n",
            "0.36  |   0\n",
            "0.36  |   0\n",
            "0.36  |   0\n",
            "0.40  |   0\n",
            "0.51  |   1\n",
            "0.66  |   1\n",
            "0.68  |   1\n",
            "0.76  |   1\n"
          ],
          "name": "stdout"
        }
      ]
    },
    {
      "cell_type": "markdown",
      "metadata": {
        "id": "cOFcx91Fv-8w"
      },
      "source": [
        "We can present the above data better in a figure: I've wrapped this up into a `separation_plot` function."
      ]
    },
    {
      "cell_type": "code",
      "metadata": {
        "id": "24-WNfDhv-8x",
        "outputId": "522932f9-fd75-4060-e18a-5d373a48c1d7",
        "colab": {
          "base_uri": "https://localhost:8080/",
          "height": 207
        }
      },
      "source": [
        "#from separation_plot import separation_plot\n",
        "\n",
        "\n",
        "figsize(11., 1.5)\n",
        "plt(posterior_probability, D)"
      ],
      "execution_count": 79,
      "outputs": [
        {
          "output_type": "error",
          "ename": "TypeError",
          "evalue": "ignored",
          "traceback": [
            "\u001b[0;31m---------------------------------------------------------------------------\u001b[0m",
            "\u001b[0;31mTypeError\u001b[0m                                 Traceback (most recent call last)",
            "\u001b[0;32m<ipython-input-79-0b279ab574a1>\u001b[0m in \u001b[0;36m<module>\u001b[0;34m()\u001b[0m\n\u001b[1;32m      3\u001b[0m \u001b[0;34m\u001b[0m\u001b[0m\n\u001b[1;32m      4\u001b[0m \u001b[0mfigsize\u001b[0m\u001b[0;34m(\u001b[0m\u001b[0;36m11.\u001b[0m\u001b[0;34m,\u001b[0m \u001b[0;36m1.5\u001b[0m\u001b[0;34m)\u001b[0m\u001b[0;34m\u001b[0m\u001b[0;34m\u001b[0m\u001b[0m\n\u001b[0;32m----> 5\u001b[0;31m \u001b[0mplt\u001b[0m\u001b[0;34m(\u001b[0m\u001b[0mposterior_probability\u001b[0m\u001b[0;34m,\u001b[0m \u001b[0mD\u001b[0m\u001b[0;34m)\u001b[0m\u001b[0;34m\u001b[0m\u001b[0;34m\u001b[0m\u001b[0m\n\u001b[0m",
            "\u001b[0;31mTypeError\u001b[0m: 'module' object is not callable"
          ]
        }
      ]
    },
    {
      "cell_type": "markdown",
      "metadata": {
        "id": "rR-hnV8gv-8y"
      },
      "source": [
        "The snaking-line is the sorted probabilities, blue bars denote defects, and empty space (or grey bars for the optimistic readers) denote non-defects.  As the probability rises, we see more and more defects occur. On the right hand side, the plot suggests that as the posterior probability is large (line close to 1), then more defects are realized. This is good behaviour. Ideally, all the blue bars *should* be close to the right-hand side, and deviations from this reflect missed predictions. \n",
        "\n",
        "The black vertical line is the expected number of defects we should observe, given this model. This allows the user to see how the total number of events predicted by the model compares to the actual number of events in the data.\n",
        "\n",
        "It is much more informative to compare this to separation plots for other models. Below we compare our model (top) versus three others:\n",
        "\n",
        "1. the perfect model, which predicts the posterior probability to be equal 1 if a defect did occur.\n",
        "2. a completely random model, which predicts random probabilities regardless of temperature.\n",
        "3. a constant model:  where $P(D = 1 \\; | \\; t) = c, \\;\\; \\forall t$. The best choice for $c$ is the observed frequency of defects, in this case 7/23.  \n"
      ]
    },
    {
      "cell_type": "code",
      "metadata": {
        "id": "O5eE_C3Yv-8y",
        "outputId": "2975f7b4-0700-4a73-920a-f990d72dd504",
        "colab": {
          "base_uri": "https://localhost:8080/",
          "height": 243
        }
      },
      "source": [
        "figsize(11., 1.25)\n",
        "\n",
        "# Our temperature-dependent model\n",
        "separation_plot(posterior_probability, D)\n",
        "plt.title(\"Temperature-dependent model\")\n",
        "\n",
        "# Perfect model\n",
        "# i.e. the probability of defect is equal to if a defect occurred or not.\n",
        "p = D\n",
        "separation_plot(p, D)\n",
        "plt.title(\"Perfect model\")\n",
        "\n",
        "# random predictions\n",
        "p = np.random.rand(23)\n",
        "separation_plot(p, D)\n",
        "plt.title(\"Random model\")\n",
        "\n",
        "# constant model\n",
        "constant_prob = 7./23*np.ones(23)\n",
        "separation_plot(constant_prob, D)\n",
        "plt.title(\"Constant-prediction model\");"
      ],
      "execution_count": 80,
      "outputs": [
        {
          "output_type": "error",
          "ename": "NameError",
          "evalue": "ignored",
          "traceback": [
            "\u001b[0;31m---------------------------------------------------------------------------\u001b[0m",
            "\u001b[0;31mNameError\u001b[0m                                 Traceback (most recent call last)",
            "\u001b[0;32m<ipython-input-80-136195865fcd>\u001b[0m in \u001b[0;36m<module>\u001b[0;34m()\u001b[0m\n\u001b[1;32m      2\u001b[0m \u001b[0;34m\u001b[0m\u001b[0m\n\u001b[1;32m      3\u001b[0m \u001b[0;31m# Our temperature-dependent model\u001b[0m\u001b[0;34m\u001b[0m\u001b[0;34m\u001b[0m\u001b[0;34m\u001b[0m\u001b[0m\n\u001b[0;32m----> 4\u001b[0;31m \u001b[0mseparation_plot\u001b[0m\u001b[0;34m(\u001b[0m\u001b[0mposterior_probability\u001b[0m\u001b[0;34m,\u001b[0m \u001b[0mD\u001b[0m\u001b[0;34m)\u001b[0m\u001b[0;34m\u001b[0m\u001b[0;34m\u001b[0m\u001b[0m\n\u001b[0m\u001b[1;32m      5\u001b[0m \u001b[0mplt\u001b[0m\u001b[0;34m.\u001b[0m\u001b[0mtitle\u001b[0m\u001b[0;34m(\u001b[0m\u001b[0;34m\"Temperature-dependent model\"\u001b[0m\u001b[0;34m)\u001b[0m\u001b[0;34m\u001b[0m\u001b[0;34m\u001b[0m\u001b[0m\n\u001b[1;32m      6\u001b[0m \u001b[0;34m\u001b[0m\u001b[0m\n",
            "\u001b[0;31mNameError\u001b[0m: name 'separation_plot' is not defined"
          ]
        }
      ]
    },
    {
      "cell_type": "markdown",
      "metadata": {
        "id": "FbqBhNxcv-80"
      },
      "source": [
        "In the random model, we can see that as the probability increases there is no clustering of defects to the right-hand side. Similarly for the constant model.\n",
        "\n",
        "The perfect model, the probability line is not well shown, as it is stuck to the bottom and top of the figure. Of course the perfect model is only for demonstration, and we cannot infer any scientific inference from it."
      ]
    },
    {
      "cell_type": "markdown",
      "metadata": {
        "id": "L54FmgUfv-80"
      },
      "source": [
        "##### Exercises\n",
        "\n",
        "1\\. Try putting in extreme values for our observations in the cheating example. What happens if we observe 25 affirmative responses? 10? 50? "
      ]
    },
    {
      "cell_type": "markdown",
      "metadata": {
        "id": "dMIaNcWnv-80"
      },
      "source": [
        "2\\. Try plotting $\\alpha$ samples versus $\\beta$ samples.  Why might the resulting plot look like this?"
      ]
    },
    {
      "cell_type": "code",
      "metadata": {
        "id": "SQKhjzawv-84"
      },
      "source": [
        "#type your code here.\n",
        "figsize(12.5, 4)\n",
        "\n",
        "plt.scatter(alpha_samples, beta_samples, alpha=0.1)\n",
        "plt.title(\"Why does the plot look like this?\")\n",
        "plt.xlabel(r\"$\\alpha$\")\n",
        "plt.ylabel(r\"$\\beta$\");"
      ],
      "execution_count": null,
      "outputs": []
    },
    {
      "cell_type": "markdown",
      "metadata": {
        "id": "Ms91755fv-87"
      },
      "source": [
        "### References\n",
        "\n",
        "-  [1] Dalal, Fowlkes and Hoadley (1989),JASA, 84, 945-957.\n",
        "-  [2] German Rodriguez. Datasets. In WWS509. Retrieved 30/01/2013, from <http://data.princeton.edu/wws509/datasets/#smoking>.\n",
        "-  [3] McLeish, Don, and Cyntha Struthers. STATISTICS 450/850 Estimation and Hypothesis Testing. Winter 2012. Waterloo, Ontario: 2012. Print.\n",
        "-  [4] Fonnesbeck, Christopher. \"Building Models.\" PyMC-Devs. N.p., n.d. Web. 26 Feb 2013. <http://pymc-devs.github.com/pymc/modelbuilding.html>.\n",
        "- [5] Cronin, Beau. \"Why Probabilistic Programming Matters.\" 24 Mar 2013. Google, Online Posting to Google . Web. 24 Mar. 2013. <https://plus.google.com/u/0/107971134877020469960/posts/KpeRdJKR6Z1>.\n",
        "- [6] S.P. Brooks, E.A. Catchpole, and B.J.T. Morgan. Bayesian animal survival estimation. Statistical Science, 15: 357–376, 2000\n",
        "- [7] Gelman, Andrew. \"Philosophy and the practice of Bayesian statistics.\" British Journal of Mathematical and Statistical Psychology. (2012): n. page. Web. 2 Apr. 2013.\n",
        "- [8] Greenhill, Brian, Michael D. Ward, and Audrey Sacks. \"The Separation Plot: A New Visual Method for Evaluating the Fit of Binary Models.\" American Journal of Political Science. 55.No.4 (2011): n. page. Web. 2 Apr. 2013."
      ]
    },
    {
      "cell_type": "code",
      "metadata": {
        "id": "qJRHqz_5v-87",
        "outputId": "34d51ba4-2209-4c8f-920f-9f2d0edfd778"
      },
      "source": [
        "from IPython.core.display import HTML\n",
        "\n",
        "\n",
        "def css_styling():\n",
        "    styles = open(\"../styles/custom.css\", \"r\").read()\n",
        "    return HTML(styles)\n",
        "css_styling()"
      ],
      "execution_count": null,
      "outputs": [
        {
          "output_type": "execute_result",
          "data": {
            "text/html": [
              "<style>\n",
              "    @font-face {\n",
              "        font-family: \"Computer Modern\";\n",
              "        src: url('http://9dbb143991406a7c655e-aa5fcb0a5a4ec34cff238a2d56ca4144.r56.cf5.rackcdn.com/cmunss.otf');\n",
              "    }\n",
              "    @font-face {\n",
              "        font-family: \"Computer Modern\";\n",
              "        font-weight: bold;\n",
              "        src: url('http://9dbb143991406a7c655e-aa5fcb0a5a4ec34cff238a2d56ca4144.r56.cf5.rackcdn.com/cmunsx.otf');\n",
              "    }\n",
              "    @font-face {\n",
              "        font-family: \"Computer Modern\";\n",
              "        font-style: oblique;\n",
              "        src: url('http://9dbb143991406a7c655e-aa5fcb0a5a4ec34cff238a2d56ca4144.r56.cf5.rackcdn.com/cmunsi.otf');\n",
              "    }\n",
              "    @font-face {\n",
              "        font-family: \"Computer Modern\";\n",
              "        font-weight: bold;\n",
              "        font-style: oblique;\n",
              "        src: url('http://9dbb143991406a7c655e-aa5fcb0a5a4ec34cff238a2d56ca4144.r56.cf5.rackcdn.com/cmunso.otf');\n",
              "    }\n",
              "    div.cell{\n",
              "        width:800px;\n",
              "        margin-left:16% !important;\n",
              "        margin-right:auto;\n",
              "    }\n",
              "    h1 {\n",
              "        font-family: Helvetica, serif;\n",
              "    }\n",
              "    h4{\n",
              "        margin-top:12px;\n",
              "        margin-bottom: 3px;\n",
              "       }\n",
              "    div.text_cell_render{\n",
              "        font-family: Computer Modern, \"Helvetica Neue\", Arial, Helvetica, Geneva, sans-serif;\n",
              "        line-height: 145%;\n",
              "        font-size: 130%;\n",
              "        width:800px;\n",
              "        margin-left:auto;\n",
              "        margin-right:auto;\n",
              "    }\n",
              "    .CodeMirror{\n",
              "            font-family: \"Source Code Pro\", source-code-pro,Consolas, monospace;\n",
              "    }\n",
              "    .prompt{\n",
              "        display: None;\n",
              "    }\n",
              "    .text_cell_render h5 {\n",
              "        font-weight: 300;\n",
              "        font-size: 22pt;\n",
              "        color: #4057A1;\n",
              "        font-style: italic;\n",
              "        margin-bottom: .5em;\n",
              "        margin-top: 0.5em;\n",
              "        display: block;\n",
              "    }\n",
              "    \n",
              "    .warning{\n",
              "        color: rgb( 240, 20, 20 )\n",
              "        }  \n",
              "</style>\n",
              "<script>\n",
              "    MathJax.Hub.Config({\n",
              "                        TeX: {\n",
              "                           extensions: [\"AMSmath.js\"]\n",
              "                           },\n",
              "                tex2jax: {\n",
              "                    inlineMath: [ ['$','$'], [\"\\\\(\",\"\\\\)\"] ],\n",
              "                    displayMath: [ ['$$','$$'], [\"\\\\[\",\"\\\\]\"] ]\n",
              "                },\n",
              "                displayAlign: 'center', // Change this to 'center' to center equations.\n",
              "                \"HTML-CSS\": {\n",
              "                    styles: {'.MathJax_Display': {\"margin\": 4}}\n",
              "                }\n",
              "        });\n",
              "</script>\n"
            ],
            "text/plain": [
              "<IPython.core.display.HTML object>"
            ]
          },
          "metadata": {
            "tags": []
          },
          "execution_count": 1
        }
      ]
    },
    {
      "cell_type": "code",
      "metadata": {
        "id": "ujOVSz9av-8-"
      },
      "source": [
        ""
      ],
      "execution_count": null,
      "outputs": []
    }
  ]
}